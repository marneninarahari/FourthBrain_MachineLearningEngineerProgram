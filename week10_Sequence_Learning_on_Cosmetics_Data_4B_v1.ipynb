{
  "nbformat": 4,
  "nbformat_minor": 0,
  "metadata": {
    "kernelspec": {
      "display_name": "Python 3",
      "language": "python",
      "name": "python3"
    },
    "language_info": {
      "codemirror_mode": {
        "name": "ipython",
        "version": 3
      },
      "file_extension": ".py",
      "mimetype": "text/x-python",
      "name": "python",
      "nbconvert_exporter": "python",
      "pygments_lexer": "ipython3",
      "version": "3.7.7"
    },
    "colab": {
      "name": "Sequence_Learning_on_Cosmetics_Data_4B_v1.ipynb",
      "provenance": [],
      "collapsed_sections": []
    }
  },
  "cells": [
    {
      "cell_type": "markdown",
      "metadata": {
        "id": "tyN5gj274OgN"
      },
      "source": [
        "# Today you are MLE at the Personalization Department in Macy's cosmetics!\n",
        "Your goal is to predict outcomes of online browsing sessions through session-level-features or seqeunce of page visits to predict if teh next sequence of events/session outcome will be a purchase or not. Working off session level data is definitely more erroneous than on a journey level, but it provides the opportunity to initiate nudge models/coupons to help personalize at each session level.\n",
        "\n",
        "Models used in this assignment are similar to https://github.com/guillaume-chevalier/seq2seq-signal-prediction/blob/master/seq2seq.ipynb\n",
        "\n",
        "## You have two major tasks today:\n",
        "\n",
        "\n",
        "1.   To process raw session level data to generate sequence data/sequence models.\n",
        "2.   Compare performance of sequence models with session-feature level models.\n",
        "\n",
        "## Your manager needs your help to answer the following question: \n",
        "Which is the better strategy for session level predictions that lead to presonalization: page visit sequences (less complexity for data pre-process) or session-level features (more data heavy process)?\n",
        "\n"
      ]
    },
    {
      "cell_type": "markdown",
      "metadata": {
        "id": "G72VpQoe9qyi"
      },
      "source": [
        "# Task 0: Getting familiar with the Data!"
      ]
    },
    {
      "cell_type": "code",
      "metadata": {
        "colab": {
          "base_uri": "https://localhost:8080/"
        },
        "id": "qLLIlcrdvmw1",
        "outputId": "209cf0fd-49d6-4e13-91d7-9ce9ba14166c"
      },
      "source": [
        "#Mount the RAW session level data: shopping.pkl\n",
        "from google.colab import drive\n",
        "drive.mount('/content/drive')"
      ],
      "execution_count": 1,
      "outputs": [
        {
          "output_type": "stream",
          "name": "stdout",
          "text": [
            "Mounted at /content/drive\n"
          ]
        }
      ]
    },
    {
      "cell_type": "code",
      "metadata": {
        "colab": {
          "base_uri": "https://localhost:8080/"
        },
        "id": "suaLXdkkwBzy",
        "outputId": "7502b238-fcb7-4cbc-e5ef-69851f078dbf"
      },
      "source": [
        "import os\n",
        "# The path below should point to the directory containing this notebook and the associated utility files\n",
        "# Change it if necessary\n",
        "os.chdir('/content/drive/MyDrive/FourthBrainMLE/week_10/Sequence_Models/')\n",
        "!ls"
      ],
      "execution_count": 2,
      "outputs": [
        {
          "output_type": "stream",
          "name": "stdout",
          "text": [
            "Session_features.pkl  shopping.pkl\n"
          ]
        }
      ]
    },
    {
      "cell_type": "code",
      "metadata": {
        "id": "Qbh2P_qs9i1_"
      },
      "source": [
        "# Import all libraries\n",
        "import numpy as np\n",
        "import pandas as pd\n",
        "from sklearn.preprocessing import OneHotEncoder\n",
        "from keras.models import Sequential\n",
        "from keras.layers import Dense\n",
        "from keras.layers import LSTM\n",
        "from keras.layers import Flatten\n",
        "from sklearn.preprocessing import MinMaxScaler\n",
        "from sklearn.metrics import mean_squared_error\n",
        "from matplotlib import pyplot\n",
        "from keras.layers import Bidirectional\n",
        "from keras.layers import TimeDistributed"
      ],
      "execution_count": 3,
      "outputs": []
    },
    {
      "cell_type": "code",
      "metadata": {
        "id": "S5UdJL8sP6fz",
        "colab": {
          "base_uri": "https://localhost:8080/",
          "height": 223
        },
        "outputId": "37b65c3d-151f-455b-ef21-675f5ca50171"
      },
      "source": [
        "#Read and look at the RAW data\n",
        "data = pd.read_pickle('shopping.pkl')\n",
        "print('Shape of data=', data.shape)\n",
        "data.head()"
      ],
      "execution_count": 4,
      "outputs": [
        {
          "output_type": "stream",
          "name": "stdout",
          "text": [
            "Shape of data= (1500000, 12)\n"
          ]
        },
        {
          "output_type": "execute_result",
          "data": {
            "text/html": [
              "\n",
              "  <div id=\"df-d253388a-caef-420e-b999-0fca2adfa6b8\">\n",
              "    <div class=\"colab-df-container\">\n",
              "      <div>\n",
              "<style scoped>\n",
              "    .dataframe tbody tr th:only-of-type {\n",
              "        vertical-align: middle;\n",
              "    }\n",
              "\n",
              "    .dataframe tbody tr th {\n",
              "        vertical-align: top;\n",
              "    }\n",
              "\n",
              "    .dataframe thead th {\n",
              "        text-align: right;\n",
              "    }\n",
              "</style>\n",
              "<table border=\"1\" class=\"dataframe\">\n",
              "  <thead>\n",
              "    <tr style=\"text-align: right;\">\n",
              "      <th></th>\n",
              "      <th>event_time</th>\n",
              "      <th>event_type</th>\n",
              "      <th>product_id</th>\n",
              "      <th>category_id</th>\n",
              "      <th>brand</th>\n",
              "      <th>price</th>\n",
              "      <th>user_id</th>\n",
              "      <th>user_session</th>\n",
              "      <th>year</th>\n",
              "      <th>month</th>\n",
              "      <th>weekday</th>\n",
              "      <th>hour</th>\n",
              "    </tr>\n",
              "  </thead>\n",
              "  <tbody>\n",
              "    <tr>\n",
              "      <th>0</th>\n",
              "      <td>2019-12-01 00:00:00</td>\n",
              "      <td>remove_from_cart</td>\n",
              "      <td>5712790</td>\n",
              "      <td>1487580005268456287</td>\n",
              "      <td>f.o.x</td>\n",
              "      <td>6.27</td>\n",
              "      <td>576802932</td>\n",
              "      <td>51d85cb0-897f-48d2-918b-ad63965c12dc</td>\n",
              "      <td>2019</td>\n",
              "      <td>12</td>\n",
              "      <td>Sunday</td>\n",
              "      <td>0</td>\n",
              "    </tr>\n",
              "    <tr>\n",
              "      <th>1</th>\n",
              "      <td>2019-12-01 00:00:00</td>\n",
              "      <td>view</td>\n",
              "      <td>5764655</td>\n",
              "      <td>1487580005411062629</td>\n",
              "      <td>cnd</td>\n",
              "      <td>29.05</td>\n",
              "      <td>412120092</td>\n",
              "      <td>8adff31e-2051-4894-9758-224bfa8aec18</td>\n",
              "      <td>2019</td>\n",
              "      <td>12</td>\n",
              "      <td>Sunday</td>\n",
              "      <td>0</td>\n",
              "    </tr>\n",
              "    <tr>\n",
              "      <th>2</th>\n",
              "      <td>2019-12-01 00:00:02</td>\n",
              "      <td>cart</td>\n",
              "      <td>4958</td>\n",
              "      <td>1487580009471148064</td>\n",
              "      <td>runail</td>\n",
              "      <td>1.19</td>\n",
              "      <td>494077766</td>\n",
              "      <td>c99a50e8-2fac-4c4d-89ec-41c05f114554</td>\n",
              "      <td>2019</td>\n",
              "      <td>12</td>\n",
              "      <td>Sunday</td>\n",
              "      <td>0</td>\n",
              "    </tr>\n",
              "    <tr>\n",
              "      <th>3</th>\n",
              "      <td>2019-12-01 00:00:05</td>\n",
              "      <td>view</td>\n",
              "      <td>5848413</td>\n",
              "      <td>1487580007675986893</td>\n",
              "      <td>freedecor</td>\n",
              "      <td>0.79</td>\n",
              "      <td>348405118</td>\n",
              "      <td>722ffea5-73c0-4924-8e8f-371ff8031af4</td>\n",
              "      <td>2019</td>\n",
              "      <td>12</td>\n",
              "      <td>Sunday</td>\n",
              "      <td>0</td>\n",
              "    </tr>\n",
              "    <tr>\n",
              "      <th>4</th>\n",
              "      <td>2019-12-01 00:00:07</td>\n",
              "      <td>view</td>\n",
              "      <td>5824148</td>\n",
              "      <td>1487580005511725929</td>\n",
              "      <td>nan</td>\n",
              "      <td>5.56</td>\n",
              "      <td>576005683</td>\n",
              "      <td>28172809-7e4a-45ce-bab0-5efa90117cd5</td>\n",
              "      <td>2019</td>\n",
              "      <td>12</td>\n",
              "      <td>Sunday</td>\n",
              "      <td>0</td>\n",
              "    </tr>\n",
              "  </tbody>\n",
              "</table>\n",
              "</div>\n",
              "      <button class=\"colab-df-convert\" onclick=\"convertToInteractive('df-d253388a-caef-420e-b999-0fca2adfa6b8')\"\n",
              "              title=\"Convert this dataframe to an interactive table.\"\n",
              "              style=\"display:none;\">\n",
              "        \n",
              "  <svg xmlns=\"http://www.w3.org/2000/svg\" height=\"24px\"viewBox=\"0 0 24 24\"\n",
              "       width=\"24px\">\n",
              "    <path d=\"M0 0h24v24H0V0z\" fill=\"none\"/>\n",
              "    <path d=\"M18.56 5.44l.94 2.06.94-2.06 2.06-.94-2.06-.94-.94-2.06-.94 2.06-2.06.94zm-11 1L8.5 8.5l.94-2.06 2.06-.94-2.06-.94L8.5 2.5l-.94 2.06-2.06.94zm10 10l.94 2.06.94-2.06 2.06-.94-2.06-.94-.94-2.06-.94 2.06-2.06.94z\"/><path d=\"M17.41 7.96l-1.37-1.37c-.4-.4-.92-.59-1.43-.59-.52 0-1.04.2-1.43.59L10.3 9.45l-7.72 7.72c-.78.78-.78 2.05 0 2.83L4 21.41c.39.39.9.59 1.41.59.51 0 1.02-.2 1.41-.59l7.78-7.78 2.81-2.81c.8-.78.8-2.07 0-2.86zM5.41 20L4 18.59l7.72-7.72 1.47 1.35L5.41 20z\"/>\n",
              "  </svg>\n",
              "      </button>\n",
              "      \n",
              "  <style>\n",
              "    .colab-df-container {\n",
              "      display:flex;\n",
              "      flex-wrap:wrap;\n",
              "      gap: 12px;\n",
              "    }\n",
              "\n",
              "    .colab-df-convert {\n",
              "      background-color: #E8F0FE;\n",
              "      border: none;\n",
              "      border-radius: 50%;\n",
              "      cursor: pointer;\n",
              "      display: none;\n",
              "      fill: #1967D2;\n",
              "      height: 32px;\n",
              "      padding: 0 0 0 0;\n",
              "      width: 32px;\n",
              "    }\n",
              "\n",
              "    .colab-df-convert:hover {\n",
              "      background-color: #E2EBFA;\n",
              "      box-shadow: 0px 1px 2px rgba(60, 64, 67, 0.3), 0px 1px 3px 1px rgba(60, 64, 67, 0.15);\n",
              "      fill: #174EA6;\n",
              "    }\n",
              "\n",
              "    [theme=dark] .colab-df-convert {\n",
              "      background-color: #3B4455;\n",
              "      fill: #D2E3FC;\n",
              "    }\n",
              "\n",
              "    [theme=dark] .colab-df-convert:hover {\n",
              "      background-color: #434B5C;\n",
              "      box-shadow: 0px 1px 3px 1px rgba(0, 0, 0, 0.15);\n",
              "      filter: drop-shadow(0px 1px 2px rgba(0, 0, 0, 0.3));\n",
              "      fill: #FFFFFF;\n",
              "    }\n",
              "  </style>\n",
              "\n",
              "      <script>\n",
              "        const buttonEl =\n",
              "          document.querySelector('#df-d253388a-caef-420e-b999-0fca2adfa6b8 button.colab-df-convert');\n",
              "        buttonEl.style.display =\n",
              "          google.colab.kernel.accessAllowed ? 'block' : 'none';\n",
              "\n",
              "        async function convertToInteractive(key) {\n",
              "          const element = document.querySelector('#df-d253388a-caef-420e-b999-0fca2adfa6b8');\n",
              "          const dataTable =\n",
              "            await google.colab.kernel.invokeFunction('convertToInteractive',\n",
              "                                                     [key], {});\n",
              "          if (!dataTable) return;\n",
              "\n",
              "          const docLinkHtml = 'Like what you see? Visit the ' +\n",
              "            '<a target=\"_blank\" href=https://colab.research.google.com/notebooks/data_table.ipynb>data table notebook</a>'\n",
              "            + ' to learn more about interactive tables.';\n",
              "          element.innerHTML = '';\n",
              "          dataTable['output_type'] = 'display_data';\n",
              "          await google.colab.output.renderOutput(dataTable, element);\n",
              "          const docLink = document.createElement('div');\n",
              "          docLink.innerHTML = docLinkHtml;\n",
              "          element.appendChild(docLink);\n",
              "        }\n",
              "      </script>\n",
              "    </div>\n",
              "  </div>\n",
              "  "
            ],
            "text/plain": [
              "           event_time        event_type  product_id  ...  month weekday  hour\n",
              "0 2019-12-01 00:00:00  remove_from_cart     5712790  ...     12  Sunday     0\n",
              "1 2019-12-01 00:00:00              view     5764655  ...     12  Sunday     0\n",
              "2 2019-12-01 00:00:02              cart        4958  ...     12  Sunday     0\n",
              "3 2019-12-01 00:00:05              view     5848413  ...     12  Sunday     0\n",
              "4 2019-12-01 00:00:07              view     5824148  ...     12  Sunday     0\n",
              "\n",
              "[5 rows x 12 columns]"
            ]
          },
          "metadata": {},
          "execution_count": 4
        }
      ]
    },
    {
      "cell_type": "markdown",
      "metadata": {
        "id": "xGvjhdUnu2SB"
      },
      "source": [
        "So for each unique user_session ID, the data fields that are collected are (product ID, category ID, brand, price, user ID, year, month, weekday, hour and the event (view, cart, remove, purchase). Each event is time tagged!"
      ]
    },
    {
      "cell_type": "code",
      "metadata": {
        "colab": {
          "base_uri": "https://localhost:8080/",
          "height": 287
        },
        "id": "Ku0_TrjDuDhu",
        "outputId": "59ed9a31-605d-4fc0-b67d-07a5910af7ed"
      },
      "source": [
        "#Next lets look at the feature-level session data\n",
        "feat = pd.read_pickle('Session_features.pkl')\n",
        "print('Shape of data=', feat.shape)\n",
        "feat.head()"
      ],
      "execution_count": 5,
      "outputs": [
        {
          "output_type": "stream",
          "name": "stdout",
          "text": [
            "Shape of data= (1500000, 36)\n"
          ]
        },
        {
          "output_type": "execute_result",
          "data": {
            "text/html": [
              "\n",
              "  <div id=\"df-e876c702-3ef0-4bd4-ac78-1ec5b05d49bb\">\n",
              "    <div class=\"colab-df-container\">\n",
              "      <div>\n",
              "<style scoped>\n",
              "    .dataframe tbody tr th:only-of-type {\n",
              "        vertical-align: middle;\n",
              "    }\n",
              "\n",
              "    .dataframe tbody tr th {\n",
              "        vertical-align: top;\n",
              "    }\n",
              "\n",
              "    .dataframe thead th {\n",
              "        text-align: right;\n",
              "    }\n",
              "</style>\n",
              "<table border=\"1\" class=\"dataframe\">\n",
              "  <thead>\n",
              "    <tr style=\"text-align: right;\">\n",
              "      <th></th>\n",
              "      <th>TotalEventsInSession</th>\n",
              "      <th>interactionTime</th>\n",
              "      <th>#TimesCartedinSession</th>\n",
              "      <th>#TimesViewedinSession</th>\n",
              "      <th>maxPrice</th>\n",
              "      <th>minPrice</th>\n",
              "      <th>AvgAmtCartedInSession</th>\n",
              "      <th>AvgAmtViewedInSession</th>\n",
              "      <th>#BrandsCartedInSession</th>\n",
              "      <th>#BrandsViewedInSession</th>\n",
              "      <th>#CategoriesCartedInSession</th>\n",
              "      <th>#CategoriesViewedInSession</th>\n",
              "      <th>OverallAmtUserCarted</th>\n",
              "      <th>OverallAmtUserViewed</th>\n",
              "      <th>#ProdsCartedInSession</th>\n",
              "      <th>#ProdsViewedInSession</th>\n",
              "      <th>Fr</th>\n",
              "      <th>Mon</th>\n",
              "      <th>Sat</th>\n",
              "      <th>Sun</th>\n",
              "      <th>Thu</th>\n",
              "      <th>Tue</th>\n",
              "      <th>Wed</th>\n",
              "      <th>2019</th>\n",
              "      <th>Nov</th>\n",
              "      <th>Oct</th>\n",
              "      <th>Sep</th>\n",
              "      <th>Afternoon</th>\n",
              "      <th>Dawn</th>\n",
              "      <th>EarlyMorning</th>\n",
              "      <th>Evening</th>\n",
              "      <th>Morning</th>\n",
              "      <th>Night</th>\n",
              "      <th>Noon</th>\n",
              "      <th>Weekend</th>\n",
              "      <th>Purchase</th>\n",
              "    </tr>\n",
              "  </thead>\n",
              "  <tbody>\n",
              "    <tr>\n",
              "      <th>0</th>\n",
              "      <td>7</td>\n",
              "      <td>493.0</td>\n",
              "      <td>0</td>\n",
              "      <td>7</td>\n",
              "      <td>1349.46</td>\n",
              "      <td>131.53</td>\n",
              "      <td>0.00</td>\n",
              "      <td>812.941429</td>\n",
              "      <td>0</td>\n",
              "      <td>7</td>\n",
              "      <td>0</td>\n",
              "      <td>7</td>\n",
              "      <td>145.095000</td>\n",
              "      <td>187.166429</td>\n",
              "      <td>0</td>\n",
              "      <td>7</td>\n",
              "      <td>0</td>\n",
              "      <td>0</td>\n",
              "      <td>0</td>\n",
              "      <td>0</td>\n",
              "      <td>1</td>\n",
              "      <td>0</td>\n",
              "      <td>0</td>\n",
              "      <td>1</td>\n",
              "      <td>0</td>\n",
              "      <td>1</td>\n",
              "      <td>0</td>\n",
              "      <td>0</td>\n",
              "      <td>1</td>\n",
              "      <td>0</td>\n",
              "      <td>0</td>\n",
              "      <td>0</td>\n",
              "      <td>0</td>\n",
              "      <td>0</td>\n",
              "      <td>0</td>\n",
              "      <td>0</td>\n",
              "    </tr>\n",
              "    <tr>\n",
              "      <th>1</th>\n",
              "      <td>18</td>\n",
              "      <td>585.0</td>\n",
              "      <td>1</td>\n",
              "      <td>16</td>\n",
              "      <td>1747.79</td>\n",
              "      <td>152.58</td>\n",
              "      <td>289.52</td>\n",
              "      <td>621.671250</td>\n",
              "      <td>1</td>\n",
              "      <td>16</td>\n",
              "      <td>1</td>\n",
              "      <td>16</td>\n",
              "      <td>461.202273</td>\n",
              "      <td>653.235432</td>\n",
              "      <td>1</td>\n",
              "      <td>16</td>\n",
              "      <td>0</td>\n",
              "      <td>0</td>\n",
              "      <td>0</td>\n",
              "      <td>1</td>\n",
              "      <td>0</td>\n",
              "      <td>0</td>\n",
              "      <td>0</td>\n",
              "      <td>1</td>\n",
              "      <td>0</td>\n",
              "      <td>1</td>\n",
              "      <td>0</td>\n",
              "      <td>0</td>\n",
              "      <td>0</td>\n",
              "      <td>1</td>\n",
              "      <td>0</td>\n",
              "      <td>0</td>\n",
              "      <td>0</td>\n",
              "      <td>0</td>\n",
              "      <td>0</td>\n",
              "      <td>1</td>\n",
              "    </tr>\n",
              "    <tr>\n",
              "      <th>2</th>\n",
              "      <td>1</td>\n",
              "      <td>0.0</td>\n",
              "      <td>0</td>\n",
              "      <td>1</td>\n",
              "      <td>1422.10</td>\n",
              "      <td>1422.10</td>\n",
              "      <td>0.00</td>\n",
              "      <td>1422.100000</td>\n",
              "      <td>0</td>\n",
              "      <td>1</td>\n",
              "      <td>0</td>\n",
              "      <td>1</td>\n",
              "      <td>0.000000</td>\n",
              "      <td>625.779478</td>\n",
              "      <td>0</td>\n",
              "      <td>1</td>\n",
              "      <td>0</td>\n",
              "      <td>0</td>\n",
              "      <td>0</td>\n",
              "      <td>0</td>\n",
              "      <td>0</td>\n",
              "      <td>0</td>\n",
              "      <td>1</td>\n",
              "      <td>1</td>\n",
              "      <td>1</td>\n",
              "      <td>0</td>\n",
              "      <td>0</td>\n",
              "      <td>0</td>\n",
              "      <td>1</td>\n",
              "      <td>0</td>\n",
              "      <td>0</td>\n",
              "      <td>0</td>\n",
              "      <td>0</td>\n",
              "      <td>0</td>\n",
              "      <td>0</td>\n",
              "      <td>0</td>\n",
              "    </tr>\n",
              "    <tr>\n",
              "      <th>3</th>\n",
              "      <td>1</td>\n",
              "      <td>0.0</td>\n",
              "      <td>0</td>\n",
              "      <td>1</td>\n",
              "      <td>308.63</td>\n",
              "      <td>308.63</td>\n",
              "      <td>0.00</td>\n",
              "      <td>308.630000</td>\n",
              "      <td>0</td>\n",
              "      <td>1</td>\n",
              "      <td>0</td>\n",
              "      <td>1</td>\n",
              "      <td>0.000000</td>\n",
              "      <td>609.110000</td>\n",
              "      <td>0</td>\n",
              "      <td>1</td>\n",
              "      <td>0</td>\n",
              "      <td>0</td>\n",
              "      <td>1</td>\n",
              "      <td>0</td>\n",
              "      <td>0</td>\n",
              "      <td>0</td>\n",
              "      <td>0</td>\n",
              "      <td>1</td>\n",
              "      <td>1</td>\n",
              "      <td>0</td>\n",
              "      <td>0</td>\n",
              "      <td>0</td>\n",
              "      <td>0</td>\n",
              "      <td>1</td>\n",
              "      <td>0</td>\n",
              "      <td>0</td>\n",
              "      <td>0</td>\n",
              "      <td>0</td>\n",
              "      <td>0</td>\n",
              "      <td>0</td>\n",
              "    </tr>\n",
              "    <tr>\n",
              "      <th>4</th>\n",
              "      <td>11</td>\n",
              "      <td>509.0</td>\n",
              "      <td>4</td>\n",
              "      <td>6</td>\n",
              "      <td>171.90</td>\n",
              "      <td>131.51</td>\n",
              "      <td>171.90</td>\n",
              "      <td>158.220000</td>\n",
              "      <td>4</td>\n",
              "      <td>6</td>\n",
              "      <td>4</td>\n",
              "      <td>6</td>\n",
              "      <td>153.899000</td>\n",
              "      <td>150.426207</td>\n",
              "      <td>4</td>\n",
              "      <td>6</td>\n",
              "      <td>1</td>\n",
              "      <td>0</td>\n",
              "      <td>0</td>\n",
              "      <td>0</td>\n",
              "      <td>0</td>\n",
              "      <td>0</td>\n",
              "      <td>0</td>\n",
              "      <td>1</td>\n",
              "      <td>0</td>\n",
              "      <td>1</td>\n",
              "      <td>0</td>\n",
              "      <td>0</td>\n",
              "      <td>1</td>\n",
              "      <td>0</td>\n",
              "      <td>0</td>\n",
              "      <td>0</td>\n",
              "      <td>0</td>\n",
              "      <td>0</td>\n",
              "      <td>0</td>\n",
              "      <td>1</td>\n",
              "    </tr>\n",
              "  </tbody>\n",
              "</table>\n",
              "</div>\n",
              "      <button class=\"colab-df-convert\" onclick=\"convertToInteractive('df-e876c702-3ef0-4bd4-ac78-1ec5b05d49bb')\"\n",
              "              title=\"Convert this dataframe to an interactive table.\"\n",
              "              style=\"display:none;\">\n",
              "        \n",
              "  <svg xmlns=\"http://www.w3.org/2000/svg\" height=\"24px\"viewBox=\"0 0 24 24\"\n",
              "       width=\"24px\">\n",
              "    <path d=\"M0 0h24v24H0V0z\" fill=\"none\"/>\n",
              "    <path d=\"M18.56 5.44l.94 2.06.94-2.06 2.06-.94-2.06-.94-.94-2.06-.94 2.06-2.06.94zm-11 1L8.5 8.5l.94-2.06 2.06-.94-2.06-.94L8.5 2.5l-.94 2.06-2.06.94zm10 10l.94 2.06.94-2.06 2.06-.94-2.06-.94-.94-2.06-.94 2.06-2.06.94z\"/><path d=\"M17.41 7.96l-1.37-1.37c-.4-.4-.92-.59-1.43-.59-.52 0-1.04.2-1.43.59L10.3 9.45l-7.72 7.72c-.78.78-.78 2.05 0 2.83L4 21.41c.39.39.9.59 1.41.59.51 0 1.02-.2 1.41-.59l7.78-7.78 2.81-2.81c.8-.78.8-2.07 0-2.86zM5.41 20L4 18.59l7.72-7.72 1.47 1.35L5.41 20z\"/>\n",
              "  </svg>\n",
              "      </button>\n",
              "      \n",
              "  <style>\n",
              "    .colab-df-container {\n",
              "      display:flex;\n",
              "      flex-wrap:wrap;\n",
              "      gap: 12px;\n",
              "    }\n",
              "\n",
              "    .colab-df-convert {\n",
              "      background-color: #E8F0FE;\n",
              "      border: none;\n",
              "      border-radius: 50%;\n",
              "      cursor: pointer;\n",
              "      display: none;\n",
              "      fill: #1967D2;\n",
              "      height: 32px;\n",
              "      padding: 0 0 0 0;\n",
              "      width: 32px;\n",
              "    }\n",
              "\n",
              "    .colab-df-convert:hover {\n",
              "      background-color: #E2EBFA;\n",
              "      box-shadow: 0px 1px 2px rgba(60, 64, 67, 0.3), 0px 1px 3px 1px rgba(60, 64, 67, 0.15);\n",
              "      fill: #174EA6;\n",
              "    }\n",
              "\n",
              "    [theme=dark] .colab-df-convert {\n",
              "      background-color: #3B4455;\n",
              "      fill: #D2E3FC;\n",
              "    }\n",
              "\n",
              "    [theme=dark] .colab-df-convert:hover {\n",
              "      background-color: #434B5C;\n",
              "      box-shadow: 0px 1px 3px 1px rgba(0, 0, 0, 0.15);\n",
              "      filter: drop-shadow(0px 1px 2px rgba(0, 0, 0, 0.3));\n",
              "      fill: #FFFFFF;\n",
              "    }\n",
              "  </style>\n",
              "\n",
              "      <script>\n",
              "        const buttonEl =\n",
              "          document.querySelector('#df-e876c702-3ef0-4bd4-ac78-1ec5b05d49bb button.colab-df-convert');\n",
              "        buttonEl.style.display =\n",
              "          google.colab.kernel.accessAllowed ? 'block' : 'none';\n",
              "\n",
              "        async function convertToInteractive(key) {\n",
              "          const element = document.querySelector('#df-e876c702-3ef0-4bd4-ac78-1ec5b05d49bb');\n",
              "          const dataTable =\n",
              "            await google.colab.kernel.invokeFunction('convertToInteractive',\n",
              "                                                     [key], {});\n",
              "          if (!dataTable) return;\n",
              "\n",
              "          const docLinkHtml = 'Like what you see? Visit the ' +\n",
              "            '<a target=\"_blank\" href=https://colab.research.google.com/notebooks/data_table.ipynb>data table notebook</a>'\n",
              "            + ' to learn more about interactive tables.';\n",
              "          element.innerHTML = '';\n",
              "          dataTable['output_type'] = 'display_data';\n",
              "          await google.colab.output.renderOutput(dataTable, element);\n",
              "          const docLink = document.createElement('div');\n",
              "          docLink.innerHTML = docLinkHtml;\n",
              "          element.appendChild(docLink);\n",
              "        }\n",
              "      </script>\n",
              "    </div>\n",
              "  </div>\n",
              "  "
            ],
            "text/plain": [
              "   TotalEventsInSession  interactionTime  ...  Weekend  Purchase\n",
              "0                     7            493.0  ...        0         0\n",
              "1                    18            585.0  ...        0         1\n",
              "2                     1              0.0  ...        0         0\n",
              "3                     1              0.0  ...        0         0\n",
              "4                    11            509.0  ...        0         1\n",
              "\n",
              "[5 rows x 36 columns]"
            ]
          },
          "metadata": {},
          "execution_count": 5
        }
      ]
    },
    {
      "cell_type": "markdown",
      "metadata": {
        "id": "ptSEMwzY-I-q"
      },
      "source": [
        "## 1.5M session-level records are given to you. Your goal is to find which data set is best for session-level \"purchase\" classification!"
      ]
    },
    {
      "cell_type": "markdown",
      "metadata": {
        "id": "qW9BT7eS-oH7"
      },
      "source": [
        "# Task 1 [Instructor Led]: Generate Data models out of sequence data per session. \n",
        "Here, sequence of events (view, cart, remove, purchase) are to be generated per session to see if the sequences just by themselves can indicate if a purchase would occur by the end of the session or not!\n",
        "This work is the modification from the paper: https://arxiv.org/ftp/arxiv/papers/2010/2010.02503.pdf"
      ]
    },
    {
      "cell_type": "markdown",
      "metadata": {
        "id": "1nW-ZTezxAEw"
      },
      "source": [
        "## Step 1: Create sequence data per session"
      ]
    },
    {
      "cell_type": "code",
      "metadata": {
        "id": "z7fl9XZMP6f0"
      },
      "source": [
        "# Convert the Events to numeric sequences\n",
        "events = {'purchase':1,'cart': 2,'view': 3, 'remove_from_cart':4}\n",
        "data['event'] = data.event_type.map(events)"
      ],
      "execution_count": 6,
      "outputs": []
    },
    {
      "cell_type": "code",
      "metadata": {
        "id": "_XPpZb68P6f0",
        "colab": {
          "base_uri": "https://localhost:8080/",
          "height": 206
        },
        "outputId": "033a201c-882d-4272-a639-d7d76dd0a803"
      },
      "source": [
        "# Sort the events by 'event time'\n",
        "data = data.sort_values('event_time')\n",
        "data.head()"
      ],
      "execution_count": 7,
      "outputs": [
        {
          "output_type": "execute_result",
          "data": {
            "text/html": [
              "\n",
              "  <div id=\"df-84baf7a2-8fea-4736-afc2-bda8398e0921\">\n",
              "    <div class=\"colab-df-container\">\n",
              "      <div>\n",
              "<style scoped>\n",
              "    .dataframe tbody tr th:only-of-type {\n",
              "        vertical-align: middle;\n",
              "    }\n",
              "\n",
              "    .dataframe tbody tr th {\n",
              "        vertical-align: top;\n",
              "    }\n",
              "\n",
              "    .dataframe thead th {\n",
              "        text-align: right;\n",
              "    }\n",
              "</style>\n",
              "<table border=\"1\" class=\"dataframe\">\n",
              "  <thead>\n",
              "    <tr style=\"text-align: right;\">\n",
              "      <th></th>\n",
              "      <th>event_time</th>\n",
              "      <th>event_type</th>\n",
              "      <th>product_id</th>\n",
              "      <th>category_id</th>\n",
              "      <th>brand</th>\n",
              "      <th>price</th>\n",
              "      <th>user_id</th>\n",
              "      <th>user_session</th>\n",
              "      <th>year</th>\n",
              "      <th>month</th>\n",
              "      <th>weekday</th>\n",
              "      <th>hour</th>\n",
              "      <th>event</th>\n",
              "    </tr>\n",
              "  </thead>\n",
              "  <tbody>\n",
              "    <tr>\n",
              "      <th>0</th>\n",
              "      <td>2019-12-01 00:00:00</td>\n",
              "      <td>remove_from_cart</td>\n",
              "      <td>5712790</td>\n",
              "      <td>1487580005268456287</td>\n",
              "      <td>f.o.x</td>\n",
              "      <td>6.27</td>\n",
              "      <td>576802932</td>\n",
              "      <td>51d85cb0-897f-48d2-918b-ad63965c12dc</td>\n",
              "      <td>2019</td>\n",
              "      <td>12</td>\n",
              "      <td>Sunday</td>\n",
              "      <td>0</td>\n",
              "      <td>4</td>\n",
              "    </tr>\n",
              "    <tr>\n",
              "      <th>1</th>\n",
              "      <td>2019-12-01 00:00:00</td>\n",
              "      <td>view</td>\n",
              "      <td>5764655</td>\n",
              "      <td>1487580005411062629</td>\n",
              "      <td>cnd</td>\n",
              "      <td>29.05</td>\n",
              "      <td>412120092</td>\n",
              "      <td>8adff31e-2051-4894-9758-224bfa8aec18</td>\n",
              "      <td>2019</td>\n",
              "      <td>12</td>\n",
              "      <td>Sunday</td>\n",
              "      <td>0</td>\n",
              "      <td>3</td>\n",
              "    </tr>\n",
              "    <tr>\n",
              "      <th>2</th>\n",
              "      <td>2019-12-01 00:00:02</td>\n",
              "      <td>cart</td>\n",
              "      <td>4958</td>\n",
              "      <td>1487580009471148064</td>\n",
              "      <td>runail</td>\n",
              "      <td>1.19</td>\n",
              "      <td>494077766</td>\n",
              "      <td>c99a50e8-2fac-4c4d-89ec-41c05f114554</td>\n",
              "      <td>2019</td>\n",
              "      <td>12</td>\n",
              "      <td>Sunday</td>\n",
              "      <td>0</td>\n",
              "      <td>2</td>\n",
              "    </tr>\n",
              "    <tr>\n",
              "      <th>3</th>\n",
              "      <td>2019-12-01 00:00:05</td>\n",
              "      <td>view</td>\n",
              "      <td>5848413</td>\n",
              "      <td>1487580007675986893</td>\n",
              "      <td>freedecor</td>\n",
              "      <td>0.79</td>\n",
              "      <td>348405118</td>\n",
              "      <td>722ffea5-73c0-4924-8e8f-371ff8031af4</td>\n",
              "      <td>2019</td>\n",
              "      <td>12</td>\n",
              "      <td>Sunday</td>\n",
              "      <td>0</td>\n",
              "      <td>3</td>\n",
              "    </tr>\n",
              "    <tr>\n",
              "      <th>4</th>\n",
              "      <td>2019-12-01 00:00:07</td>\n",
              "      <td>view</td>\n",
              "      <td>5824148</td>\n",
              "      <td>1487580005511725929</td>\n",
              "      <td>nan</td>\n",
              "      <td>5.56</td>\n",
              "      <td>576005683</td>\n",
              "      <td>28172809-7e4a-45ce-bab0-5efa90117cd5</td>\n",
              "      <td>2019</td>\n",
              "      <td>12</td>\n",
              "      <td>Sunday</td>\n",
              "      <td>0</td>\n",
              "      <td>3</td>\n",
              "    </tr>\n",
              "  </tbody>\n",
              "</table>\n",
              "</div>\n",
              "      <button class=\"colab-df-convert\" onclick=\"convertToInteractive('df-84baf7a2-8fea-4736-afc2-bda8398e0921')\"\n",
              "              title=\"Convert this dataframe to an interactive table.\"\n",
              "              style=\"display:none;\">\n",
              "        \n",
              "  <svg xmlns=\"http://www.w3.org/2000/svg\" height=\"24px\"viewBox=\"0 0 24 24\"\n",
              "       width=\"24px\">\n",
              "    <path d=\"M0 0h24v24H0V0z\" fill=\"none\"/>\n",
              "    <path d=\"M18.56 5.44l.94 2.06.94-2.06 2.06-.94-2.06-.94-.94-2.06-.94 2.06-2.06.94zm-11 1L8.5 8.5l.94-2.06 2.06-.94-2.06-.94L8.5 2.5l-.94 2.06-2.06.94zm10 10l.94 2.06.94-2.06 2.06-.94-2.06-.94-.94-2.06-.94 2.06-2.06.94z\"/><path d=\"M17.41 7.96l-1.37-1.37c-.4-.4-.92-.59-1.43-.59-.52 0-1.04.2-1.43.59L10.3 9.45l-7.72 7.72c-.78.78-.78 2.05 0 2.83L4 21.41c.39.39.9.59 1.41.59.51 0 1.02-.2 1.41-.59l7.78-7.78 2.81-2.81c.8-.78.8-2.07 0-2.86zM5.41 20L4 18.59l7.72-7.72 1.47 1.35L5.41 20z\"/>\n",
              "  </svg>\n",
              "      </button>\n",
              "      \n",
              "  <style>\n",
              "    .colab-df-container {\n",
              "      display:flex;\n",
              "      flex-wrap:wrap;\n",
              "      gap: 12px;\n",
              "    }\n",
              "\n",
              "    .colab-df-convert {\n",
              "      background-color: #E8F0FE;\n",
              "      border: none;\n",
              "      border-radius: 50%;\n",
              "      cursor: pointer;\n",
              "      display: none;\n",
              "      fill: #1967D2;\n",
              "      height: 32px;\n",
              "      padding: 0 0 0 0;\n",
              "      width: 32px;\n",
              "    }\n",
              "\n",
              "    .colab-df-convert:hover {\n",
              "      background-color: #E2EBFA;\n",
              "      box-shadow: 0px 1px 2px rgba(60, 64, 67, 0.3), 0px 1px 3px 1px rgba(60, 64, 67, 0.15);\n",
              "      fill: #174EA6;\n",
              "    }\n",
              "\n",
              "    [theme=dark] .colab-df-convert {\n",
              "      background-color: #3B4455;\n",
              "      fill: #D2E3FC;\n",
              "    }\n",
              "\n",
              "    [theme=dark] .colab-df-convert:hover {\n",
              "      background-color: #434B5C;\n",
              "      box-shadow: 0px 1px 3px 1px rgba(0, 0, 0, 0.15);\n",
              "      filter: drop-shadow(0px 1px 2px rgba(0, 0, 0, 0.3));\n",
              "      fill: #FFFFFF;\n",
              "    }\n",
              "  </style>\n",
              "\n",
              "      <script>\n",
              "        const buttonEl =\n",
              "          document.querySelector('#df-84baf7a2-8fea-4736-afc2-bda8398e0921 button.colab-df-convert');\n",
              "        buttonEl.style.display =\n",
              "          google.colab.kernel.accessAllowed ? 'block' : 'none';\n",
              "\n",
              "        async function convertToInteractive(key) {\n",
              "          const element = document.querySelector('#df-84baf7a2-8fea-4736-afc2-bda8398e0921');\n",
              "          const dataTable =\n",
              "            await google.colab.kernel.invokeFunction('convertToInteractive',\n",
              "                                                     [key], {});\n",
              "          if (!dataTable) return;\n",
              "\n",
              "          const docLinkHtml = 'Like what you see? Visit the ' +\n",
              "            '<a target=\"_blank\" href=https://colab.research.google.com/notebooks/data_table.ipynb>data table notebook</a>'\n",
              "            + ' to learn more about interactive tables.';\n",
              "          element.innerHTML = '';\n",
              "          dataTable['output_type'] = 'display_data';\n",
              "          await google.colab.output.renderOutput(dataTable, element);\n",
              "          const docLink = document.createElement('div');\n",
              "          docLink.innerHTML = docLinkHtml;\n",
              "          element.appendChild(docLink);\n",
              "        }\n",
              "      </script>\n",
              "    </div>\n",
              "  </div>\n",
              "  "
            ],
            "text/plain": [
              "           event_time        event_type  product_id  ...  weekday hour  event\n",
              "0 2019-12-01 00:00:00  remove_from_cart     5712790  ...   Sunday    0      4\n",
              "1 2019-12-01 00:00:00              view     5764655  ...   Sunday    0      3\n",
              "2 2019-12-01 00:00:02              cart        4958  ...   Sunday    0      2\n",
              "3 2019-12-01 00:00:05              view     5848413  ...   Sunday    0      3\n",
              "4 2019-12-01 00:00:07              view     5824148  ...   Sunday    0      3\n",
              "\n",
              "[5 rows x 13 columns]"
            ]
          },
          "metadata": {},
          "execution_count": 7
        }
      ]
    },
    {
      "cell_type": "markdown",
      "metadata": {
        "id": "kkFzILKzkRrt"
      },
      "source": [
        "Next, pre-process the data to extract a Purchase (event=1) or not (event>1) label."
      ]
    },
    {
      "cell_type": "code",
      "metadata": {
        "id": "YEOeD6osP6f1"
      },
      "source": [
        "sequence = data.groupby('user_session')['event'].apply(list)\n",
        "sequence = sequence.reset_index()\n",
        "sequence['purchase'] = sequence['event'].apply(lambda x: 1 if 1 in x else 0)\n",
        "sequence = sequence[sequence['event'].map(len)> 1]"
      ],
      "execution_count": 8,
      "outputs": []
    },
    {
      "cell_type": "code",
      "metadata": {
        "scrolled": true,
        "id": "fl26fdnvP6f4",
        "colab": {
          "base_uri": "https://localhost:8080/",
          "height": 223
        },
        "outputId": "78949a06-7979-4654-eef8-b0eaf801c7fd"
      },
      "source": [
        "#The sequence data should not contain the \"purchase field\" so it is filtered out\n",
        "sequence['event']= sequence.event.apply(lambda row: list(filter(lambda a: a != 1, row)))\n",
        "print('Total number of records=', sequence.shape[0])\n",
        "sequence.head()"
      ],
      "execution_count": 9,
      "outputs": [
        {
          "output_type": "stream",
          "name": "stdout",
          "text": [
            "Total number of records= 119480\n"
          ]
        },
        {
          "output_type": "execute_result",
          "data": {
            "text/html": [
              "\n",
              "  <div id=\"df-9e132deb-a6df-4ce3-9735-778a885add48\">\n",
              "    <div class=\"colab-df-container\">\n",
              "      <div>\n",
              "<style scoped>\n",
              "    .dataframe tbody tr th:only-of-type {\n",
              "        vertical-align: middle;\n",
              "    }\n",
              "\n",
              "    .dataframe tbody tr th {\n",
              "        vertical-align: top;\n",
              "    }\n",
              "\n",
              "    .dataframe thead th {\n",
              "        text-align: right;\n",
              "    }\n",
              "</style>\n",
              "<table border=\"1\" class=\"dataframe\">\n",
              "  <thead>\n",
              "    <tr style=\"text-align: right;\">\n",
              "      <th></th>\n",
              "      <th>user_session</th>\n",
              "      <th>event</th>\n",
              "      <th>purchase</th>\n",
              "    </tr>\n",
              "  </thead>\n",
              "  <tbody>\n",
              "    <tr>\n",
              "      <th>2</th>\n",
              "      <td>00018d32-afba-4db8-9d3d-562c83580579</td>\n",
              "      <td>[3, 2]</td>\n",
              "      <td>0</td>\n",
              "    </tr>\n",
              "    <tr>\n",
              "      <th>4</th>\n",
              "      <td>0001d956-e104-487b-a045-3864d7b9a022</td>\n",
              "      <td>[2, 2, 2, 2, 2, 2, 2]</td>\n",
              "      <td>0</td>\n",
              "    </tr>\n",
              "    <tr>\n",
              "      <th>5</th>\n",
              "      <td>0001ebd4-441d-4c2f-a888-929a63b2afe3</td>\n",
              "      <td>[3, 3, 3, 3, 3, 3, 3, 3]</td>\n",
              "      <td>0</td>\n",
              "    </tr>\n",
              "    <tr>\n",
              "      <th>7</th>\n",
              "      <td>00027027-c51e-4b8f-82bc-0122b3d44204</td>\n",
              "      <td>[3, 3, 3, 3, 3, 3, 3, 3, 3, 3, 2, 2, 2, 3, 3, ...</td>\n",
              "      <td>0</td>\n",
              "    </tr>\n",
              "    <tr>\n",
              "      <th>9</th>\n",
              "      <td>0002b72e-c9b0-4b2e-99c8-a6c8630c4cfe</td>\n",
              "      <td>[2, 3, 2, 2, 4, 4, 4, 4, 4, 4, 3, 3, 3, 4, 4, ...</td>\n",
              "      <td>0</td>\n",
              "    </tr>\n",
              "  </tbody>\n",
              "</table>\n",
              "</div>\n",
              "      <button class=\"colab-df-convert\" onclick=\"convertToInteractive('df-9e132deb-a6df-4ce3-9735-778a885add48')\"\n",
              "              title=\"Convert this dataframe to an interactive table.\"\n",
              "              style=\"display:none;\">\n",
              "        \n",
              "  <svg xmlns=\"http://www.w3.org/2000/svg\" height=\"24px\"viewBox=\"0 0 24 24\"\n",
              "       width=\"24px\">\n",
              "    <path d=\"M0 0h24v24H0V0z\" fill=\"none\"/>\n",
              "    <path d=\"M18.56 5.44l.94 2.06.94-2.06 2.06-.94-2.06-.94-.94-2.06-.94 2.06-2.06.94zm-11 1L8.5 8.5l.94-2.06 2.06-.94-2.06-.94L8.5 2.5l-.94 2.06-2.06.94zm10 10l.94 2.06.94-2.06 2.06-.94-2.06-.94-.94-2.06-.94 2.06-2.06.94z\"/><path d=\"M17.41 7.96l-1.37-1.37c-.4-.4-.92-.59-1.43-.59-.52 0-1.04.2-1.43.59L10.3 9.45l-7.72 7.72c-.78.78-.78 2.05 0 2.83L4 21.41c.39.39.9.59 1.41.59.51 0 1.02-.2 1.41-.59l7.78-7.78 2.81-2.81c.8-.78.8-2.07 0-2.86zM5.41 20L4 18.59l7.72-7.72 1.47 1.35L5.41 20z\"/>\n",
              "  </svg>\n",
              "      </button>\n",
              "      \n",
              "  <style>\n",
              "    .colab-df-container {\n",
              "      display:flex;\n",
              "      flex-wrap:wrap;\n",
              "      gap: 12px;\n",
              "    }\n",
              "\n",
              "    .colab-df-convert {\n",
              "      background-color: #E8F0FE;\n",
              "      border: none;\n",
              "      border-radius: 50%;\n",
              "      cursor: pointer;\n",
              "      display: none;\n",
              "      fill: #1967D2;\n",
              "      height: 32px;\n",
              "      padding: 0 0 0 0;\n",
              "      width: 32px;\n",
              "    }\n",
              "\n",
              "    .colab-df-convert:hover {\n",
              "      background-color: #E2EBFA;\n",
              "      box-shadow: 0px 1px 2px rgba(60, 64, 67, 0.3), 0px 1px 3px 1px rgba(60, 64, 67, 0.15);\n",
              "      fill: #174EA6;\n",
              "    }\n",
              "\n",
              "    [theme=dark] .colab-df-convert {\n",
              "      background-color: #3B4455;\n",
              "      fill: #D2E3FC;\n",
              "    }\n",
              "\n",
              "    [theme=dark] .colab-df-convert:hover {\n",
              "      background-color: #434B5C;\n",
              "      box-shadow: 0px 1px 3px 1px rgba(0, 0, 0, 0.15);\n",
              "      filter: drop-shadow(0px 1px 2px rgba(0, 0, 0, 0.3));\n",
              "      fill: #FFFFFF;\n",
              "    }\n",
              "  </style>\n",
              "\n",
              "      <script>\n",
              "        const buttonEl =\n",
              "          document.querySelector('#df-9e132deb-a6df-4ce3-9735-778a885add48 button.colab-df-convert');\n",
              "        buttonEl.style.display =\n",
              "          google.colab.kernel.accessAllowed ? 'block' : 'none';\n",
              "\n",
              "        async function convertToInteractive(key) {\n",
              "          const element = document.querySelector('#df-9e132deb-a6df-4ce3-9735-778a885add48');\n",
              "          const dataTable =\n",
              "            await google.colab.kernel.invokeFunction('convertToInteractive',\n",
              "                                                     [key], {});\n",
              "          if (!dataTable) return;\n",
              "\n",
              "          const docLinkHtml = 'Like what you see? Visit the ' +\n",
              "            '<a target=\"_blank\" href=https://colab.research.google.com/notebooks/data_table.ipynb>data table notebook</a>'\n",
              "            + ' to learn more about interactive tables.';\n",
              "          element.innerHTML = '';\n",
              "          dataTable['output_type'] = 'display_data';\n",
              "          await google.colab.output.renderOutput(dataTable, element);\n",
              "          const docLink = document.createElement('div');\n",
              "          docLink.innerHTML = docLinkHtml;\n",
              "          element.appendChild(docLink);\n",
              "        }\n",
              "      </script>\n",
              "    </div>\n",
              "  </div>\n",
              "  "
            ],
            "text/plain": [
              "                           user_session  ... purchase\n",
              "2  00018d32-afba-4db8-9d3d-562c83580579  ...        0\n",
              "4  0001d956-e104-487b-a045-3864d7b9a022  ...        0\n",
              "5  0001ebd4-441d-4c2f-a888-929a63b2afe3  ...        0\n",
              "7  00027027-c51e-4b8f-82bc-0122b3d44204  ...        0\n",
              "9  0002b72e-c9b0-4b2e-99c8-a6c8630c4cfe  ...        0\n",
              "\n",
              "[5 rows x 3 columns]"
            ]
          },
          "metadata": {},
          "execution_count": 9
        }
      ]
    },
    {
      "cell_type": "markdown",
      "metadata": {
        "id": "pU6mRjRiEGHZ"
      },
      "source": [
        "# So 'sequence' represents data regarding per-session browsing sequence.\n",
        "But what does an average sequence look like? Can some sequences be specifically long and others be too short? Lets analyze..."
      ]
    },
    {
      "cell_type": "code",
      "metadata": {
        "id": "K2Mf3A5yP6f4"
      },
      "source": [
        "#Find the length of events per user-session\n",
        "length = sequence['event'].map(len).to_list()"
      ],
      "execution_count": 10,
      "outputs": []
    },
    {
      "cell_type": "code",
      "metadata": {
        "id": "MJrKuMCDP6f5"
      },
      "source": [
        "import seaborn as sns"
      ],
      "execution_count": 11,
      "outputs": []
    },
    {
      "cell_type": "code",
      "metadata": {
        "id": "agn_AM6dP6f5",
        "colab": {
          "base_uri": "https://localhost:8080/",
          "height": 337
        },
        "outputId": "86c435b3-6e61-4019-e164-900d75a8fceb"
      },
      "source": [
        "sns.distplot(length)"
      ],
      "execution_count": 12,
      "outputs": [
        {
          "output_type": "stream",
          "name": "stderr",
          "text": [
            "/usr/local/lib/python3.7/dist-packages/seaborn/distributions.py:2619: FutureWarning: `distplot` is a deprecated function and will be removed in a future version. Please adapt your code to use either `displot` (a figure-level function with similar flexibility) or `histplot` (an axes-level function for histograms).\n",
            "  warnings.warn(msg, FutureWarning)\n"
          ]
        },
        {
          "output_type": "execute_result",
          "data": {
            "text/plain": [
              "<matplotlib.axes._subplots.AxesSubplot at 0x7f70d5304e50>"
            ]
          },
          "metadata": {},
          "execution_count": 12
        },
        {
          "output_type": "display_data",
          "data": {
            "image/png": "[encoded data removed]",
            "text/plain": [
              "<Figure size 432x288 with 1 Axes>"
            ]
          },
          "metadata": {
            "needs_background": "light"
          }
        }
      ]
    },
    {
      "cell_type": "markdown",
      "metadata": {
        "id": "alxwobvPP6f6"
      },
      "source": [
        "# So we see, most sequences are about 100 or shorter. \n",
        "One major task is to find the optimal sequence size for highet prediction accuracy. Lets try for small and large sequence sizes to find the difference!\n",
        "# Step 2: Lets analyze upto size 10 sequences and upto size 100 sequences separately!"
      ]
    },
    {
      "cell_type": "code",
      "metadata": {
        "id": "dLZ-S5lxP6f6"
      },
      "source": [
        "# select all sequences that are upto 10 events long. Discard remaining sequences.\n",
        "short_sequence_10 = sequence[sequence['event'].map(len) <= 10]"
      ],
      "execution_count": 13,
      "outputs": []
    },
    {
      "cell_type": "code",
      "metadata": {
        "id": "Fzy_4xh3P6f7",
        "colab": {
          "base_uri": "https://localhost:8080/",
          "height": 423
        },
        "outputId": "32506020-da1d-46c7-d100-d74d7af35941"
      },
      "source": [
        "#Lets see how many records come up\n",
        "short_sequence_10"
      ],
      "execution_count": 14,
      "outputs": [
        {
          "output_type": "execute_result",
          "data": {
            "text/html": [
              "\n",
              "  <div id=\"df-e05d1d64-b486-4e78-a907-f09baf3fe4fc\">\n",
              "    <div class=\"colab-df-container\">\n",
              "      <div>\n",
              "<style scoped>\n",
              "    .dataframe tbody tr th:only-of-type {\n",
              "        vertical-align: middle;\n",
              "    }\n",
              "\n",
              "    .dataframe tbody tr th {\n",
              "        vertical-align: top;\n",
              "    }\n",
              "\n",
              "    .dataframe thead th {\n",
              "        text-align: right;\n",
              "    }\n",
              "</style>\n",
              "<table border=\"1\" class=\"dataframe\">\n",
              "  <thead>\n",
              "    <tr style=\"text-align: right;\">\n",
              "      <th></th>\n",
              "      <th>user_session</th>\n",
              "      <th>event</th>\n",
              "      <th>purchase</th>\n",
              "    </tr>\n",
              "  </thead>\n",
              "  <tbody>\n",
              "    <tr>\n",
              "      <th>2</th>\n",
              "      <td>00018d32-afba-4db8-9d3d-562c83580579</td>\n",
              "      <td>[3, 2]</td>\n",
              "      <td>0</td>\n",
              "    </tr>\n",
              "    <tr>\n",
              "      <th>4</th>\n",
              "      <td>0001d956-e104-487b-a045-3864d7b9a022</td>\n",
              "      <td>[2, 2, 2, 2, 2, 2, 2]</td>\n",
              "      <td>0</td>\n",
              "    </tr>\n",
              "    <tr>\n",
              "      <th>5</th>\n",
              "      <td>0001ebd4-441d-4c2f-a888-929a63b2afe3</td>\n",
              "      <td>[3, 3, 3, 3, 3, 3, 3, 3]</td>\n",
              "      <td>0</td>\n",
              "    </tr>\n",
              "    <tr>\n",
              "      <th>10</th>\n",
              "      <td>0002ba44-8b73-4ace-b7c8-fe946aa63cc2</td>\n",
              "      <td>[3, 2, 2]</td>\n",
              "      <td>0</td>\n",
              "    </tr>\n",
              "    <tr>\n",
              "      <th>17</th>\n",
              "      <td>0003d895-8dd0-47c2-94e0-92f7a9031c74</td>\n",
              "      <td>[3, 3]</td>\n",
              "      <td>0</td>\n",
              "    </tr>\n",
              "    <tr>\n",
              "      <th>...</th>\n",
              "      <td>...</td>\n",
              "      <td>...</td>\n",
              "      <td>...</td>\n",
              "    </tr>\n",
              "    <tr>\n",
              "      <th>336954</th>\n",
              "      <td>fffb5277-899a-46d8-b51e-2c1f61880f4e</td>\n",
              "      <td>[3, 2]</td>\n",
              "      <td>0</td>\n",
              "    </tr>\n",
              "    <tr>\n",
              "      <th>336963</th>\n",
              "      <td>fffcec5a-c2e3-4e13-8f40-a63f7d14c81f</td>\n",
              "      <td>[4, 4]</td>\n",
              "      <td>0</td>\n",
              "    </tr>\n",
              "    <tr>\n",
              "      <th>336965</th>\n",
              "      <td>fffd3d91-5734-42ac-b149-7403417ec3e2</td>\n",
              "      <td>[3, 3, 3, 3, 3]</td>\n",
              "      <td>0</td>\n",
              "    </tr>\n",
              "    <tr>\n",
              "      <th>336966</th>\n",
              "      <td>fffd5100-6389-486d-8732-9066c47f7ba1</td>\n",
              "      <td>[3, 3, 2, 3, 3]</td>\n",
              "      <td>0</td>\n",
              "    </tr>\n",
              "    <tr>\n",
              "      <th>336974</th>\n",
              "      <td>ffff19e6-2095-4104-b1ac-00cd5f43f0e0</td>\n",
              "      <td>[3, 2, 3]</td>\n",
              "      <td>0</td>\n",
              "    </tr>\n",
              "  </tbody>\n",
              "</table>\n",
              "<p>91715 rows × 3 columns</p>\n",
              "</div>\n",
              "      <button class=\"colab-df-convert\" onclick=\"convertToInteractive('df-e05d1d64-b486-4e78-a907-f09baf3fe4fc')\"\n",
              "              title=\"Convert this dataframe to an interactive table.\"\n",
              "              style=\"display:none;\">\n",
              "        \n",
              "  <svg xmlns=\"http://www.w3.org/2000/svg\" height=\"24px\"viewBox=\"0 0 24 24\"\n",
              "       width=\"24px\">\n",
              "    <path d=\"M0 0h24v24H0V0z\" fill=\"none\"/>\n",
              "    <path d=\"M18.56 5.44l.94 2.06.94-2.06 2.06-.94-2.06-.94-.94-2.06-.94 2.06-2.06.94zm-11 1L8.5 8.5l.94-2.06 2.06-.94-2.06-.94L8.5 2.5l-.94 2.06-2.06.94zm10 10l.94 2.06.94-2.06 2.06-.94-2.06-.94-.94-2.06-.94 2.06-2.06.94z\"/><path d=\"M17.41 7.96l-1.37-1.37c-.4-.4-.92-.59-1.43-.59-.52 0-1.04.2-1.43.59L10.3 9.45l-7.72 7.72c-.78.78-.78 2.05 0 2.83L4 21.41c.39.39.9.59 1.41.59.51 0 1.02-.2 1.41-.59l7.78-7.78 2.81-2.81c.8-.78.8-2.07 0-2.86zM5.41 20L4 18.59l7.72-7.72 1.47 1.35L5.41 20z\"/>\n",
              "  </svg>\n",
              "      </button>\n",
              "      \n",
              "  <style>\n",
              "    .colab-df-container {\n",
              "      display:flex;\n",
              "      flex-wrap:wrap;\n",
              "      gap: 12px;\n",
              "    }\n",
              "\n",
              "    .colab-df-convert {\n",
              "      background-color: #E8F0FE;\n",
              "      border: none;\n",
              "      border-radius: 50%;\n",
              "      cursor: pointer;\n",
              "      display: none;\n",
              "      fill: #1967D2;\n",
              "      height: 32px;\n",
              "      padding: 0 0 0 0;\n",
              "      width: 32px;\n",
              "    }\n",
              "\n",
              "    .colab-df-convert:hover {\n",
              "      background-color: #E2EBFA;\n",
              "      box-shadow: 0px 1px 2px rgba(60, 64, 67, 0.3), 0px 1px 3px 1px rgba(60, 64, 67, 0.15);\n",
              "      fill: #174EA6;\n",
              "    }\n",
              "\n",
              "    [theme=dark] .colab-df-convert {\n",
              "      background-color: #3B4455;\n",
              "      fill: #D2E3FC;\n",
              "    }\n",
              "\n",
              "    [theme=dark] .colab-df-convert:hover {\n",
              "      background-color: #434B5C;\n",
              "      box-shadow: 0px 1px 3px 1px rgba(0, 0, 0, 0.15);\n",
              "      filter: drop-shadow(0px 1px 2px rgba(0, 0, 0, 0.3));\n",
              "      fill: #FFFFFF;\n",
              "    }\n",
              "  </style>\n",
              "\n",
              "      <script>\n",
              "        const buttonEl =\n",
              "          document.querySelector('#df-e05d1d64-b486-4e78-a907-f09baf3fe4fc button.colab-df-convert');\n",
              "        buttonEl.style.display =\n",
              "          google.colab.kernel.accessAllowed ? 'block' : 'none';\n",
              "\n",
              "        async function convertToInteractive(key) {\n",
              "          const element = document.querySelector('#df-e05d1d64-b486-4e78-a907-f09baf3fe4fc');\n",
              "          const dataTable =\n",
              "            await google.colab.kernel.invokeFunction('convertToInteractive',\n",
              "                                                     [key], {});\n",
              "          if (!dataTable) return;\n",
              "\n",
              "          const docLinkHtml = 'Like what you see? Visit the ' +\n",
              "            '<a target=\"_blank\" href=https://colab.research.google.com/notebooks/data_table.ipynb>data table notebook</a>'\n",
              "            + ' to learn more about interactive tables.';\n",
              "          element.innerHTML = '';\n",
              "          dataTable['output_type'] = 'display_data';\n",
              "          await google.colab.output.renderOutput(dataTable, element);\n",
              "          const docLink = document.createElement('div');\n",
              "          docLink.innerHTML = docLinkHtml;\n",
              "          element.appendChild(docLink);\n",
              "        }\n",
              "      </script>\n",
              "    </div>\n",
              "  </div>\n",
              "  "
            ],
            "text/plain": [
              "                                user_session  ... purchase\n",
              "2       00018d32-afba-4db8-9d3d-562c83580579  ...        0\n",
              "4       0001d956-e104-487b-a045-3864d7b9a022  ...        0\n",
              "5       0001ebd4-441d-4c2f-a888-929a63b2afe3  ...        0\n",
              "10      0002ba44-8b73-4ace-b7c8-fe946aa63cc2  ...        0\n",
              "17      0003d895-8dd0-47c2-94e0-92f7a9031c74  ...        0\n",
              "...                                      ...  ...      ...\n",
              "336954  fffb5277-899a-46d8-b51e-2c1f61880f4e  ...        0\n",
              "336963  fffcec5a-c2e3-4e13-8f40-a63f7d14c81f  ...        0\n",
              "336965  fffd3d91-5734-42ac-b149-7403417ec3e2  ...        0\n",
              "336966  fffd5100-6389-486d-8732-9066c47f7ba1  ...        0\n",
              "336974  ffff19e6-2095-4104-b1ac-00cd5f43f0e0  ...        0\n",
              "\n",
              "[91715 rows x 3 columns]"
            ]
          },
          "metadata": {},
          "execution_count": 14
        }
      ]
    },
    {
      "cell_type": "markdown",
      "metadata": {
        "id": "uDScrStaFqnm"
      },
      "source": [
        "# Now that you have the limited sequence data, create a data model for it.\n",
        "# Step 3: Fitting data models: Simple RNN, GRU, LSTM to predict sessions that have a 'purchase' in them.\n",
        "\n",
        "Apply 70/30 split to data and implement sequence models"
      ]
    },
    {
      "cell_type": "code",
      "metadata": {
        "id": "K6qRStdGP6f7"
      },
      "source": [
        "event_sequence = short_sequence_10['event'].to_list()"
      ],
      "execution_count": 15,
      "outputs": []
    },
    {
      "cell_type": "code",
      "metadata": {
        "id": "MKLHK-SdP6f8"
      },
      "source": [
        "# Pad all sequences with zeros so all inputs have same consistent size of 10\n",
        "from keras.preprocessing.sequence import pad_sequences\n",
        "from sklearn.model_selection import train_test_split\n",
        "event = pad_sequences(event_sequence)"
      ],
      "execution_count": 16,
      "outputs": []
    },
    {
      "cell_type": "code",
      "metadata": {
        "scrolled": true,
        "id": "ZuOIbSAcP6f8",
        "colab": {
          "base_uri": "https://localhost:8080/"
        },
        "outputId": "1749fb49-203d-46b5-ad50-6fc0b305d068"
      },
      "source": [
        "# One Hot Encoding the Purchase label\n",
        "y = np.array(pd.get_dummies(short_sequence_10['purchase'],prefix='Purchase'))\n",
        "z=np.sum(y[:,1])/len(y)\n",
        "print('Percentage of Purchase sessions=',z*100)"
      ],
      "execution_count": 17,
      "outputs": [
        {
          "output_type": "stream",
          "name": "stdout",
          "text": [
            "Percentage of Purchase sessions= 6.487488415199258\n"
          ]
        }
      ]
    },
    {
      "cell_type": "code",
      "metadata": {
        "id": "BbwdeT39h6l5"
      },
      "source": [
        "#Define a function to generate 70/30 data split followed by data resizing!\n",
        "def prepare_train_test_data(data,y):\n",
        "  #input is data[nxd] and Y[nx2], outputs 70/30 split formatted for the sequence models\n",
        "  X_train, X_test, y_train, y_test = train_test_split(data, y,                              \n",
        "                                                    test_size=0.3)\n",
        "  #Resizing is necessary since input to sequence models is (1,d)\n",
        "  X_train = X_train.reshape((X_train.shape[0], 1, X_train.shape[1]))\n",
        "  X_test = X_test.reshape((X_test.shape[0], 1, X_test.shape[1]))\n",
        "  return (X_train,X_test,y_train,y_test)"
      ],
      "execution_count": 18,
      "outputs": []
    },
    {
      "cell_type": "code",
      "metadata": {
        "id": "rjK0Z2WQP6f9",
        "colab": {
          "base_uri": "https://localhost:8080/"
        },
        "outputId": "0f036ccb-5606-4b96-97a7-29e4b7355903"
      },
      "source": [
        "X_train, X_test, y_train, y_test=prepare_train_test_data(np.array(event),y)\n",
        "print(X_train.shape, y_train.shape)"
      ],
      "execution_count": 19,
      "outputs": [
        {
          "output_type": "stream",
          "name": "stdout",
          "text": [
            "(64200, 1, 10) (64200, 2)\n"
          ]
        }
      ]
    },
    {
      "cell_type": "markdown",
      "metadata": {
        "id": "krjPyvUzP6f_"
      },
      "source": [
        "## Finally, train and test a sequence model built using: SimpleRNN, GRU and LSTM and compare results!"
      ]
    },
    {
      "cell_type": "code",
      "metadata": {
        "id": "wlp3503JIL83"
      },
      "source": [
        "#Helper functions for this:\n",
        "import matplotlib.pyplot as plt\n",
        "from sklearn.metrics import confusion_matrix\n",
        "\n",
        "# demonstration of calculating metrics for a neural network model using sklearn\n",
        "from sklearn.datasets import make_circles\n",
        "from sklearn.metrics import accuracy_score\n",
        "from sklearn.metrics import precision_score\n",
        "from sklearn.metrics import recall_score\n",
        "from sklearn.metrics import f1_score\n",
        "from sklearn.metrics import cohen_kappa_score\n",
        "from sklearn.metrics import roc_auc_score\n",
        "\n",
        "\n",
        "def plot_history(history):\n",
        "  # This function will plot the model fit process\n",
        "  print(history.history.keys())\n",
        "  # summarize history for accuracy\n",
        "  plt.plot(history.history['acc'])\n",
        "  plt.plot(history.history['val_acc'])\n",
        "  plt.title('model accuracy')\n",
        "  plt.ylabel('acc')\n",
        "  plt.xlabel('epoch')\n",
        "  plt.legend(['train', 'test'], loc='upper left')\n",
        "  plt.show()\n",
        "  # summarize history for loss\n",
        "  plt.plot(history.history['loss'])\n",
        "  plt.plot(history.history['val_loss'])\n",
        "  plt.title('model loss')\n",
        "  plt.ylabel('loss')\n",
        "  plt.xlabel('epoch')\n",
        "  plt.legend(['train', 'test'], loc='upper left')\n",
        "  plt.show()\n",
        "\n",
        "\n",
        "def evaluate_on_test(X_test, y_test, training_model):\n",
        "  #This function will evaluate the fit model on test data\n",
        "  #g_preds=training_model.predict_classes(X_test)\n",
        "  g_preds=np.argmax(training_model.predict(X_test), axis=-1)\n",
        "  gaccuracy = accuracy_score(y_test[:,1], g_preds)\n",
        "  print('Accuracy: %f' % gaccuracy)\n",
        "  # precision tp / (tp + fp)\n",
        "  gprecision = precision_score(y_test[:,1], g_preds)\n",
        "  print('Precision: %f' % gprecision)\n",
        "  # recall: tp / (tp + fn)\n",
        "  grecall = recall_score(y_test[:,1], g_preds)\n",
        "  print('Recall: %f' % grecall)\n",
        "  # f1: 2 tp / (2 tp + fp + fn)\n",
        "  gf1 = f1_score(y_test[:,1], g_preds)\n",
        "  print('F1 score: %f' % gf1)\n"
      ],
      "execution_count": 20,
      "outputs": []
    },
    {
      "cell_type": "markdown",
      "metadata": {
        "id": "_ORGIGQSI3Ei"
      },
      "source": [
        "# The following example shows a model designed using Simple RNN. Repeat the same using GRU and LSTM."
      ]
    },
    {
      "cell_type": "code",
      "metadata": {
        "id": "ytK1F5UMI6EC"
      },
      "source": [
        "from tensorflow.keras.layers import GRU, Embedding, SimpleRNN, Activation\n",
        "import tensorflow as tf"
      ],
      "execution_count": 21,
      "outputs": []
    },
    {
      "cell_type": "code",
      "metadata": {
        "id": "p8fOqyJPJDc5"
      },
      "source": [
        "#This is a simple RNN model\n",
        "def simple_RNN_model(neurons=40, op=10):\n",
        "    model = Sequential()\n",
        "    model.add(SimpleRNN(neurons, return_sequences = True, input_shape = (1,op)))\n",
        "    model.add(SimpleRNN(2*neurons))\n",
        "    model.add(Dense(2, activation='softmax'))\n",
        "    model.compile(\n",
        "      optimizer=tf.optimizers.Adam(learning_rate=0.0003),\n",
        "      loss='binary_crossentropy',\n",
        "      metrics=['acc'])\n",
        "    return model"
      ],
      "execution_count": 22,
      "outputs": []
    },
    {
      "cell_type": "code",
      "metadata": {
        "colab": {
          "base_uri": "https://localhost:8080/"
        },
        "id": "1cuwPUcLJvh6",
        "outputId": "1eb0ce25-b0e1-4594-e923-36679f17d822"
      },
      "source": [
        "#Visualize the Model\n",
        "tf.keras.backend.clear_session()\n",
        "RNN_model = simple_RNN_model(neurons=40, op=10)\n",
        "RNN_model.summary()"
      ],
      "execution_count": 23,
      "outputs": [
        {
          "output_type": "stream",
          "name": "stdout",
          "text": [
            "Model: \"sequential\"\n",
            "_________________________________________________________________\n",
            " Layer (type)                Output Shape              Param #   \n",
            "=================================================================\n",
            " simple_rnn (SimpleRNN)      (None, 1, 40)             2040      \n",
            "                                                                 \n",
            " simple_rnn_1 (SimpleRNN)    (None, 80)                9680      \n",
            "                                                                 \n",
            " dense (Dense)               (None, 2)                 162       \n",
            "                                                                 \n",
            "=================================================================\n",
            "Total params: 11,882\n",
            "Trainable params: 11,882\n",
            "Non-trainable params: 0\n",
            "_________________________________________________________________\n"
          ]
        }
      ]
    },
    {
      "cell_type": "code",
      "metadata": {
        "colab": {
          "base_uri": "https://localhost:8080/"
        },
        "id": "IhdK1Xd6JJCw",
        "outputId": "9ffd7322-091c-46ba-cf63-23d28e85a0be"
      },
      "source": [
        "#Fit the model using 80/20 validation split at runtime\n",
        "r_history = RNN_model.fit(X_train, y_train,\n",
        "                    epochs=20,\n",
        "                    batch_size=1000,#atleast 1000 records per epoch\n",
        "                    validation_split=0.2)"
      ],
      "execution_count": 24,
      "outputs": [
        {
          "output_type": "stream",
          "name": "stdout",
          "text": [
            "Epoch 1/20\n",
            "52/52 [==============================] - 3s 20ms/step - loss: 0.4187 - acc: 0.8781 - val_loss: 0.2415 - val_acc: 0.9355\n",
            "Epoch 2/20\n",
            "52/52 [==============================] - 1s 13ms/step - loss: 0.2211 - acc: 0.9346 - val_loss: 0.2148 - val_acc: 0.9355\n",
            "Epoch 3/20\n",
            "52/52 [==============================] - 1s 13ms/step - loss: 0.2106 - acc: 0.9346 - val_loss: 0.2104 - val_acc: 0.9355\n",
            "Epoch 4/20\n",
            "52/52 [==============================] - 1s 13ms/step - loss: 0.2073 - acc: 0.9346 - val_loss: 0.2078 - val_acc: 0.9355\n",
            "Epoch 5/20\n",
            "52/52 [==============================] - 1s 13ms/step - loss: 0.2051 - acc: 0.9346 - val_loss: 0.2060 - val_acc: 0.9355\n",
            "Epoch 6/20\n",
            "52/52 [==============================] - 1s 10ms/step - loss: 0.2034 - acc: 0.9346 - val_loss: 0.2045 - val_acc: 0.9355\n",
            "Epoch 7/20\n",
            "52/52 [==============================] - 1s 13ms/step - loss: 0.2018 - acc: 0.9346 - val_loss: 0.2031 - val_acc: 0.9355\n",
            "Epoch 8/20\n",
            "52/52 [==============================] - 1s 12ms/step - loss: 0.2004 - acc: 0.9437 - val_loss: 0.2018 - val_acc: 0.9449\n",
            "Epoch 9/20\n",
            "52/52 [==============================] - 1s 11ms/step - loss: 0.1990 - acc: 0.9452 - val_loss: 0.2005 - val_acc: 0.9449\n",
            "Epoch 10/20\n",
            "52/52 [==============================] - 0s 9ms/step - loss: 0.1976 - acc: 0.9452 - val_loss: 0.1993 - val_acc: 0.9449\n",
            "Epoch 11/20\n",
            "52/52 [==============================] - 1s 10ms/step - loss: 0.1962 - acc: 0.9452 - val_loss: 0.1981 - val_acc: 0.9449\n",
            "Epoch 12/20\n",
            "52/52 [==============================] - 1s 13ms/step - loss: 0.1950 - acc: 0.9465 - val_loss: 0.1970 - val_acc: 0.9465\n",
            "Epoch 13/20\n",
            "52/52 [==============================] - 1s 12ms/step - loss: 0.1937 - acc: 0.9500 - val_loss: 0.1960 - val_acc: 0.9498\n",
            "Epoch 14/20\n",
            "52/52 [==============================] - 1s 10ms/step - loss: 0.1927 - acc: 0.9506 - val_loss: 0.1950 - val_acc: 0.9498\n",
            "Epoch 15/20\n",
            "52/52 [==============================] - 0s 8ms/step - loss: 0.1917 - acc: 0.9506 - val_loss: 0.1942 - val_acc: 0.9498\n",
            "Epoch 16/20\n",
            "52/52 [==============================] - 0s 9ms/step - loss: 0.1908 - acc: 0.9506 - val_loss: 0.1935 - val_acc: 0.9498\n",
            "Epoch 17/20\n",
            "52/52 [==============================] - 1s 11ms/step - loss: 0.1899 - acc: 0.9506 - val_loss: 0.1927 - val_acc: 0.9498\n",
            "Epoch 18/20\n",
            "52/52 [==============================] - 1s 11ms/step - loss: 0.1892 - acc: 0.9506 - val_loss: 0.1923 - val_acc: 0.9498\n",
            "Epoch 19/20\n",
            "52/52 [==============================] - 1s 12ms/step - loss: 0.1886 - acc: 0.9506 - val_loss: 0.1916 - val_acc: 0.9498\n",
            "Epoch 20/20\n",
            "52/52 [==============================] - 1s 10ms/step - loss: 0.1881 - acc: 0.9506 - val_loss: 0.1911 - val_acc: 0.9498\n"
          ]
        }
      ]
    },
    {
      "cell_type": "code",
      "metadata": {
        "colab": {
          "base_uri": "https://localhost:8080/",
          "height": 590
        },
        "id": "zVJTgqvHJJFB",
        "outputId": "ab3d65b6-6fec-4b84-cfe7-3434a3bf98d1"
      },
      "source": [
        "plot_history(r_history)"
      ],
      "execution_count": 25,
      "outputs": [
        {
          "output_type": "stream",
          "name": "stdout",
          "text": [
            "dict_keys(['loss', 'acc', 'val_loss', 'val_acc'])\n"
          ]
        },
        {
          "output_type": "display_data",
          "data": {
            "image/png": "[encoded data removed]",
            "text/plain": [
              "<Figure size 432x288 with 1 Axes>"
            ]
          },
          "metadata": {
            "needs_background": "light"
          }
        },
        {
          "output_type": "display_data",
          "data": {
            "image/png": "[encoded data removed]",
            "text/plain": [
              "<Figure size 432x288 with 1 Axes>"
            ]
          },
          "metadata": {
            "needs_background": "light"
          }
        }
      ]
    },
    {
      "cell_type": "code",
      "metadata": {
        "colab": {
          "base_uri": "https://localhost:8080/"
        },
        "id": "ZRTCPXThJ38p",
        "outputId": "cab96116-9326-4e26-e03e-f7aabafeaa45"
      },
      "source": [
        "evaluate_on_test(X_test,y_test, RNN_model)"
      ],
      "execution_count": 26,
      "outputs": [
        {
          "output_type": "stream",
          "name": "stdout",
          "text": [
            "Accuracy: 0.952644\n",
            "Precision: 1.000000\n",
            "Recall: 0.261756\n",
            "F1 score: 0.414908\n"
          ]
        }
      ]
    },
    {
      "cell_type": "markdown",
      "metadata": {
        "id": "-IULjM4vLIUx"
      },
      "source": [
        "# Task 2: Run GRU and LSTM Models on the 10-sequence data. \n",
        "Which is the best model? What is the metric of most importance?\n"
      ]
    },
    {
      "cell_type": "code",
      "metadata": {
        "id": "s-zDi5ykLq2M"
      },
      "source": [
        "###############START CODE HERE##########################################################################\n",
        "#Define a GRU model function. Use the simple_RNN_model function and replace the RNN layers with GRU.\n",
        "#Notice the change in number of parameters\n",
        "def GRU_model(neurons=40, op=10):\n",
        "  model = Sequential()\n",
        "  model.add(GRU(neurons, return_sequences = True, input_shape = (1,op)))\n",
        "  model.add(GRU(2*neurons))\n",
        "  model.add(Dense(2, activation='softmax'))\n",
        "  model.compile(\n",
        "      optimizer=tf.optimizers.Adam(learning_rate=0.0003),\n",
        "      loss='binary_crossentropy',\n",
        "      metrics=['acc'])\n",
        "  return model"
      ],
      "execution_count": 27,
      "outputs": []
    },
    {
      "cell_type": "code",
      "metadata": {
        "id": "DEy3TOkMLy8T",
        "colab": {
          "base_uri": "https://localhost:8080/"
        },
        "outputId": "e04d053f-4672-4097-f929-8452aa60fd20"
      },
      "source": [
        "#Visualize the Model (Notice the increase in parameters)\n",
        "tf.keras.backend.clear_session()\n",
        "G_model = GRU_model()#neurons=40, op=10)\n",
        "G_model.summary()"
      ],
      "execution_count": 28,
      "outputs": [
        {
          "output_type": "stream",
          "name": "stdout",
          "text": [
            "Model: \"sequential\"\n",
            "_________________________________________________________________\n",
            " Layer (type)                Output Shape              Param #   \n",
            "=================================================================\n",
            " gru (GRU)                   (None, 1, 40)             6240      \n",
            "                                                                 \n",
            " gru_1 (GRU)                 (None, 80)                29280     \n",
            "                                                                 \n",
            " dense (Dense)               (None, 2)                 162       \n",
            "                                                                 \n",
            "=================================================================\n",
            "Total params: 35,682\n",
            "Trainable params: 35,682\n",
            "Non-trainable params: 0\n",
            "_________________________________________________________________\n"
          ]
        }
      ]
    },
    {
      "cell_type": "code",
      "metadata": {
        "id": "pcYsLzXWMIiB",
        "colab": {
          "base_uri": "https://localhost:8080/"
        },
        "outputId": "fa74373c-9d81-4709-f7dc-a6137a4d8232"
      },
      "source": [
        "#Train the G_model (20 epochs, 1000 samples per batch, validation split=0.2)\n",
        "gru_history = G_model.fit(X_train, y_train,\n",
        "                    epochs=20,\n",
        "                    batch_size=1000,#atleast 1000 records per epoch\n",
        "                    validation_split=0.2)"
      ],
      "execution_count": 29,
      "outputs": [
        {
          "output_type": "stream",
          "name": "stdout",
          "text": [
            "Epoch 1/20\n",
            "52/52 [==============================] - 6s 39ms/step - loss: 0.5677 - acc: 0.8884 - val_loss: 0.4237 - val_acc: 0.9355\n",
            "Epoch 2/20\n",
            "52/52 [==============================] - 1s 21ms/step - loss: 0.3227 - acc: 0.9346 - val_loss: 0.2542 - val_acc: 0.9355\n",
            "Epoch 3/20\n",
            "52/52 [==============================] - 1s 20ms/step - loss: 0.2338 - acc: 0.9346 - val_loss: 0.2233 - val_acc: 0.9355\n",
            "Epoch 4/20\n",
            "52/52 [==============================] - 1s 19ms/step - loss: 0.2170 - acc: 0.9346 - val_loss: 0.2139 - val_acc: 0.9355\n",
            "Epoch 5/20\n",
            "52/52 [==============================] - 1s 19ms/step - loss: 0.2111 - acc: 0.9346 - val_loss: 0.2104 - val_acc: 0.9355\n",
            "Epoch 6/20\n",
            "52/52 [==============================] - 1s 18ms/step - loss: 0.2085 - acc: 0.9346 - val_loss: 0.2086 - val_acc: 0.9355\n",
            "Epoch 7/20\n",
            "52/52 [==============================] - 1s 19ms/step - loss: 0.2069 - acc: 0.9346 - val_loss: 0.2073 - val_acc: 0.9355\n",
            "Epoch 8/20\n",
            "52/52 [==============================] - 1s 20ms/step - loss: 0.2056 - acc: 0.9346 - val_loss: 0.2062 - val_acc: 0.9355\n",
            "Epoch 9/20\n",
            "52/52 [==============================] - 1s 21ms/step - loss: 0.2045 - acc: 0.9346 - val_loss: 0.2052 - val_acc: 0.9355\n",
            "Epoch 10/20\n",
            "52/52 [==============================] - 1s 20ms/step - loss: 0.2034 - acc: 0.9346 - val_loss: 0.2043 - val_acc: 0.9355\n",
            "Epoch 11/20\n",
            "52/52 [==============================] - 1s 20ms/step - loss: 0.2023 - acc: 0.9346 - val_loss: 0.2032 - val_acc: 0.9355\n",
            "Epoch 12/20\n",
            "52/52 [==============================] - 1s 20ms/step - loss: 0.2011 - acc: 0.9346 - val_loss: 0.2022 - val_acc: 0.9355\n",
            "Epoch 13/20\n",
            "52/52 [==============================] - 1s 19ms/step - loss: 0.2000 - acc: 0.9346 - val_loss: 0.2011 - val_acc: 0.9355\n",
            "Epoch 14/20\n",
            "52/52 [==============================] - 1s 18ms/step - loss: 0.1988 - acc: 0.9346 - val_loss: 0.2000 - val_acc: 0.9355\n",
            "Epoch 15/20\n",
            "52/52 [==============================] - 1s 19ms/step - loss: 0.1976 - acc: 0.9445 - val_loss: 0.1990 - val_acc: 0.9449\n",
            "Epoch 16/20\n",
            "52/52 [==============================] - 1s 19ms/step - loss: 0.1964 - acc: 0.9452 - val_loss: 0.1979 - val_acc: 0.9449\n",
            "Epoch 17/20\n",
            "52/52 [==============================] - 1s 19ms/step - loss: 0.1953 - acc: 0.9452 - val_loss: 0.1970 - val_acc: 0.9449\n",
            "Epoch 18/20\n",
            "52/52 [==============================] - 1s 19ms/step - loss: 0.1942 - acc: 0.9452 - val_loss: 0.1960 - val_acc: 0.9449\n",
            "Epoch 19/20\n",
            "52/52 [==============================] - 1s 19ms/step - loss: 0.1931 - acc: 0.9461 - val_loss: 0.1951 - val_acc: 0.9465\n",
            "Epoch 20/20\n",
            "52/52 [==============================] - 1s 19ms/step - loss: 0.1921 - acc: 0.9493 - val_loss: 0.1945 - val_acc: 0.9498\n"
          ]
        }
      ]
    },
    {
      "cell_type": "code",
      "metadata": {
        "id": "0GdxIFEcMS94",
        "colab": {
          "base_uri": "https://localhost:8080/",
          "height": 590
        },
        "outputId": "ec53fcc4-73dd-4ecb-e955-21b616986521"
      },
      "source": [
        "#Use plot_history function to plot the model curves for loss and accuracy\n",
        "plot_history(gru_history)"
      ],
      "execution_count": 30,
      "outputs": [
        {
          "output_type": "stream",
          "name": "stdout",
          "text": [
            "dict_keys(['loss', 'acc', 'val_loss', 'val_acc'])\n"
          ]
        },
        {
          "output_type": "display_data",
          "data": {
            "image/png": "[encoded data removed]",
            "text/plain": [
              "<Figure size 432x288 with 1 Axes>"
            ]
          },
          "metadata": {
            "needs_background": "light"
          }
        },
        {
          "output_type": "display_data",
          "data": {
            "image/png": "[encoded data removed]",
            "text/plain": [
              "<Figure size 432x288 with 1 Axes>"
            ]
          },
          "metadata": {
            "needs_background": "light"
          }
        }
      ]
    },
    {
      "cell_type": "code",
      "metadata": {
        "id": "f4vFqrzPMWmY",
        "colab": {
          "base_uri": "https://localhost:8080/"
        },
        "outputId": "560242c0-42b2-45b0-bf39-2059a6ef69e7"
      },
      "source": [
        "# Use evaluate_on_test function to note accuracy, precision, recall and F1 score on test data\n",
        "evaluate_on_test(X_test,y_test, G_model)"
      ],
      "execution_count": 31,
      "outputs": [
        {
          "output_type": "stream",
          "name": "stdout",
          "text": [
            "Accuracy: 0.952644\n",
            "Precision: 1.000000\n",
            "Recall: 0.261756\n",
            "F1 score: 0.414908\n"
          ]
        }
      ]
    },
    {
      "cell_type": "markdown",
      "metadata": {
        "id": "tfZHhIZW9zXI"
      },
      "source": [
        ""
      ]
    },
    {
      "cell_type": "code",
      "metadata": {
        "id": "62VFEslyqEWX"
      },
      "source": [
        "#Define an LSTM model function. Use the LSTM layer as shown below.\n",
        "#Notice the change in number of parameters\n",
        "def LSTM_model(neurons=40, op=10):\n",
        "  #first define Sequential model\n",
        "  #model.add(Bidirectional(LSTM(neurons, return_sequences=True), input_shape=(1, op)))\n",
        "  #Add more layers\n",
        "  model = Sequential()\n",
        "  model.add(Bidirectional(LSTM(neurons, return_sequences=True), input_shape=(1, op)))\n",
        "  model.add(Bidirectional(LSTM(2*neurons)))\n",
        "  model.add(Dense(2, activation='softmax'))\n",
        "  model.compile(\n",
        "      optimizer=tf.optimizers.Adam(learning_rate=0.0003),\n",
        "      loss='binary_crossentropy',\n",
        "      metrics=['acc'])\n",
        "  return model"
      ],
      "execution_count": 32,
      "outputs": []
    },
    {
      "cell_type": "code",
      "metadata": {
        "id": "1HZqWlbtqegR",
        "colab": {
          "base_uri": "https://localhost:8080/"
        },
        "outputId": "593a220b-e068-4e95-e034-ab45796fa131"
      },
      "source": [
        "tf.keras.backend.clear_session()\n",
        "training_model = LSTM_model(neurons=40, op=10)\n",
        "training_model.summary()"
      ],
      "execution_count": 33,
      "outputs": [
        {
          "output_type": "stream",
          "name": "stdout",
          "text": [
            "Model: \"sequential\"\n",
            "_________________________________________________________________\n",
            " Layer (type)                Output Shape              Param #   \n",
            "=================================================================\n",
            " bidirectional (Bidirectiona  (None, 1, 80)            16320     \n",
            " l)                                                              \n",
            "                                                                 \n",
            " bidirectional_1 (Bidirectio  (None, 160)              103040    \n",
            " nal)                                                            \n",
            "                                                                 \n",
            " dense (Dense)               (None, 2)                 322       \n",
            "                                                                 \n",
            "=================================================================\n",
            "Total params: 119,682\n",
            "Trainable params: 119,682\n",
            "Non-trainable params: 0\n",
            "_________________________________________________________________\n"
          ]
        }
      ]
    },
    {
      "cell_type": "code",
      "metadata": {
        "id": "duvgEdL-rur0",
        "colab": {
          "base_uri": "https://localhost:8080/"
        },
        "outputId": "6a5ef7d1-150b-43b1-c811-608061824347"
      },
      "source": [
        "#Train the training_model (20 epochs, 1000 samples per batch, validation split=0.2)\n",
        "lstm_history = training_model.fit(X_train, y_train,\n",
        "                                  epochs=20,\n",
        "                                  batch_size=1000,#atleast 1000 records per epoch\n",
        "                                  validation_split=0.2)"
      ],
      "execution_count": 34,
      "outputs": [
        {
          "output_type": "stream",
          "name": "stdout",
          "text": [
            "Epoch 1/20\n",
            "52/52 [==============================] - 10s 76ms/step - loss: 0.5925 - acc: 0.9212 - val_loss: 0.4615 - val_acc: 0.9355\n",
            "Epoch 2/20\n",
            "52/52 [==============================] - 2s 34ms/step - loss: 0.3347 - acc: 0.9346 - val_loss: 0.2546 - val_acc: 0.9355\n",
            "Epoch 3/20\n",
            "52/52 [==============================] - 2s 33ms/step - loss: 0.2321 - acc: 0.9346 - val_loss: 0.2194 - val_acc: 0.9355\n",
            "Epoch 4/20\n",
            "52/52 [==============================] - 2s 35ms/step - loss: 0.2120 - acc: 0.9346 - val_loss: 0.2092 - val_acc: 0.9355\n",
            "Epoch 5/20\n",
            "52/52 [==============================] - 2s 34ms/step - loss: 0.2063 - acc: 0.9346 - val_loss: 0.2062 - val_acc: 0.9355\n",
            "Epoch 6/20\n",
            "52/52 [==============================] - 2s 34ms/step - loss: 0.2043 - acc: 0.9346 - val_loss: 0.2049 - val_acc: 0.9355\n",
            "Epoch 7/20\n",
            "52/52 [==============================] - 2s 33ms/step - loss: 0.2029 - acc: 0.9346 - val_loss: 0.2039 - val_acc: 0.9355\n",
            "Epoch 8/20\n",
            "52/52 [==============================] - 2s 34ms/step - loss: 0.2018 - acc: 0.9346 - val_loss: 0.2029 - val_acc: 0.9355\n",
            "Epoch 9/20\n",
            "52/52 [==============================] - 2s 34ms/step - loss: 0.2009 - acc: 0.9346 - val_loss: 0.2022 - val_acc: 0.9355\n",
            "Epoch 10/20\n",
            "52/52 [==============================] - 2s 34ms/step - loss: 0.1999 - acc: 0.9346 - val_loss: 0.2012 - val_acc: 0.9355\n",
            "Epoch 11/20\n",
            "52/52 [==============================] - 2s 35ms/step - loss: 0.1990 - acc: 0.9346 - val_loss: 0.2003 - val_acc: 0.9355\n",
            "Epoch 12/20\n",
            "52/52 [==============================] - 2s 34ms/step - loss: 0.1981 - acc: 0.9346 - val_loss: 0.1996 - val_acc: 0.9355\n",
            "Epoch 13/20\n",
            "52/52 [==============================] - 2s 34ms/step - loss: 0.1972 - acc: 0.9346 - val_loss: 0.1988 - val_acc: 0.9355\n",
            "Epoch 14/20\n",
            "52/52 [==============================] - 2s 35ms/step - loss: 0.1963 - acc: 0.9346 - val_loss: 0.1980 - val_acc: 0.9355\n",
            "Epoch 15/20\n",
            "52/52 [==============================] - 2s 35ms/step - loss: 0.1955 - acc: 0.9415 - val_loss: 0.1972 - val_acc: 0.9449\n",
            "Epoch 16/20\n",
            "52/52 [==============================] - 2s 36ms/step - loss: 0.1947 - acc: 0.9452 - val_loss: 0.1966 - val_acc: 0.9449\n",
            "Epoch 17/20\n",
            "52/52 [==============================] - 2s 36ms/step - loss: 0.1940 - acc: 0.9452 - val_loss: 0.1959 - val_acc: 0.9449\n",
            "Epoch 18/20\n",
            "52/52 [==============================] - 2s 35ms/step - loss: 0.1932 - acc: 0.9454 - val_loss: 0.1951 - val_acc: 0.9461\n",
            "Epoch 19/20\n",
            "52/52 [==============================] - 2s 35ms/step - loss: 0.1924 - acc: 0.9500 - val_loss: 0.1944 - val_acc: 0.9498\n",
            "Epoch 20/20\n",
            "52/52 [==============================] - 2s 34ms/step - loss: 0.1917 - acc: 0.9506 - val_loss: 0.1937 - val_acc: 0.9498\n"
          ]
        }
      ]
    },
    {
      "cell_type": "code",
      "metadata": {
        "id": "5MF7_nuj2ZQO",
        "colab": {
          "base_uri": "https://localhost:8080/",
          "height": 590
        },
        "outputId": "712606ef-01d9-4868-bd09-4f2197fd67f7"
      },
      "source": [
        "#Use plot_history function to plot the model curves for loss and accuracy\n",
        "plot_history(lstm_history)"
      ],
      "execution_count": 35,
      "outputs": [
        {
          "output_type": "stream",
          "name": "stdout",
          "text": [
            "dict_keys(['loss', 'acc', 'val_loss', 'val_acc'])\n"
          ]
        },
        {
          "output_type": "display_data",
          "data": {
            "image/png": "[encoded data removed]",
            "text/plain": [
              "<Figure size 432x288 with 1 Axes>"
            ]
          },
          "metadata": {
            "needs_background": "light"
          }
        },
        {
          "output_type": "display_data",
          "data": {
            "image/png": "[encoded data removed]",
            "text/plain": [
              "<Figure size 432x288 with 1 Axes>"
            ]
          },
          "metadata": {
            "needs_background": "light"
          }
        }
      ]
    },
    {
      "cell_type": "code",
      "metadata": {
        "id": "KAGWtCN-OKrG",
        "colab": {
          "base_uri": "https://localhost:8080/"
        },
        "outputId": "d1a0c926-3178-46bd-a383-b4ef8326b5a2"
      },
      "source": [
        "# Use evaluate_on_test function to note accuracy, precision, recall and F1 score on test data\n",
        "evaluate_on_test(X_test, y_test, training_model)"
      ],
      "execution_count": 36,
      "outputs": [
        {
          "output_type": "stream",
          "name": "stdout",
          "text": [
            "Accuracy: 0.952644\n",
            "Precision: 1.000000\n",
            "Recall: 0.261756\n",
            "F1 score: 0.414908\n"
          ]
        }
      ]
    },
    {
      "cell_type": "markdown",
      "metadata": {
        "id": "4nf9aSqW4ctV"
      },
      "source": [
        "# Task 3: Create sequence data upto size 300. Apply 70/30 split for train-test data.\n",
        "# Next, fit ONLY the best data model (pick ONE between simple RNN /GRU/ LSTM reported in Task 2) on this data.\n"
      ]
    },
    {
      "cell_type": "code",
      "metadata": {
        "id": "oSTGbc7BP6gB"
      },
      "source": [
        "#Step 1: Create sequence upto 300\n",
        "short_sequence_300 = sequence[sequence['event'].map(len) <= 300]\n",
        "event_sequence_300 = short_sequence_300['event'].to_list()\n",
        "event_300 = pad_sequences(event_sequence_300)"
      ],
      "execution_count": 37,
      "outputs": []
    },
    {
      "cell_type": "code",
      "metadata": {
        "id": "O7w-kY3Ndas4",
        "colab": {
          "base_uri": "https://localhost:8080/"
        },
        "outputId": "0af255f2-e315-4f12-977c-ead70aaab855"
      },
      "source": [
        "# One Hot Encoding the Purchase label\n",
        "y_300 = np.array(pd.get_dummies(short_sequence_300['purchase'],prefix='Purchase'))\n",
        "X_train_300, X_test_300, y_train_300, y_test_300 = prepare_train_test_data(np.array(event_300), y_300)\n",
        "print(X_train_300.shape, y_train_300.shape)"
      ],
      "execution_count": 38,
      "outputs": [
        {
          "output_type": "stream",
          "name": "stdout",
          "text": [
            "(83594, 1, 300) (83594, 2)\n"
          ]
        }
      ]
    },
    {
      "cell_type": "code",
      "metadata": {
        "id": "VgB3ISRAP6s2",
        "colab": {
          "base_uri": "https://localhost:8080/"
        },
        "outputId": "41ced224-595e-46ec-ac5e-9b58d5499f8f"
      },
      "source": [
        "# Initialize your best model (RNN or GRU or LSTM)\n",
        "tf.keras.backend.clear_session()\n",
        "training_model_300 = LSTM_model(neurons=40, op=300)\n",
        "training_model_300.summary()"
      ],
      "execution_count": 39,
      "outputs": [
        {
          "output_type": "stream",
          "name": "stdout",
          "text": [
            "Model: \"sequential\"\n",
            "_________________________________________________________________\n",
            " Layer (type)                Output Shape              Param #   \n",
            "=================================================================\n",
            " bidirectional (Bidirectiona  (None, 1, 80)            109120    \n",
            " l)                                                              \n",
            "                                                                 \n",
            " bidirectional_1 (Bidirectio  (None, 160)              103040    \n",
            " nal)                                                            \n",
            "                                                                 \n",
            " dense (Dense)               (None, 2)                 322       \n",
            "                                                                 \n",
            "=================================================================\n",
            "Total params: 212,482\n",
            "Trainable params: 212,482\n",
            "Non-trainable params: 0\n",
            "_________________________________________________________________\n"
          ]
        }
      ]
    },
    {
      "cell_type": "code",
      "source": [
        "#Fit your model on Training data (20 epochs, 1000 samples per batch, validation_split=0.2)\n",
        "lstm_history_300 = training_model_300.fit(X_train_300, y_train_300,\n",
        "                                  epochs=20,\n",
        "                                  batch_size=1000,#atleast 1000 records per epoch\n",
        "                                  validation_split=0.2)"
      ],
      "metadata": {
        "colab": {
          "base_uri": "https://localhost:8080/"
        },
        "id": "EomSxP0bw8VB",
        "outputId": "5622ec1a-9cbc-4992-b36c-38606c9f6d84"
      },
      "execution_count": 40,
      "outputs": [
        {
          "output_type": "stream",
          "name": "stdout",
          "text": [
            "Epoch 1/20\n",
            "67/67 [==============================] - 11s 69ms/step - loss: 0.5779 - acc: 0.8722 - val_loss: 0.4272 - val_acc: 0.9100\n",
            "Epoch 2/20\n",
            "67/67 [==============================] - 3s 43ms/step - loss: 0.3457 - acc: 0.9057 - val_loss: 0.2886 - val_acc: 0.9100\n",
            "Epoch 3/20\n",
            "67/67 [==============================] - 3s 44ms/step - loss: 0.2834 - acc: 0.9057 - val_loss: 0.2683 - val_acc: 0.9100\n",
            "Epoch 4/20\n",
            "67/67 [==============================] - 3s 44ms/step - loss: 0.2734 - acc: 0.9057 - val_loss: 0.2643 - val_acc: 0.9100\n",
            "Epoch 5/20\n",
            "67/67 [==============================] - 3s 43ms/step - loss: 0.2703 - acc: 0.9057 - val_loss: 0.2623 - val_acc: 0.9100\n",
            "Epoch 6/20\n",
            "67/67 [==============================] - 3s 44ms/step - loss: 0.2687 - acc: 0.9057 - val_loss: 0.2615 - val_acc: 0.9100\n",
            "Epoch 7/20\n",
            "67/67 [==============================] - 3s 43ms/step - loss: 0.2676 - acc: 0.9057 - val_loss: 0.2607 - val_acc: 0.9100\n",
            "Epoch 8/20\n",
            "67/67 [==============================] - 3s 44ms/step - loss: 0.2666 - acc: 0.9057 - val_loss: 0.2599 - val_acc: 0.9100\n",
            "Epoch 9/20\n",
            "67/67 [==============================] - 3s 44ms/step - loss: 0.2657 - acc: 0.9057 - val_loss: 0.2594 - val_acc: 0.9100\n",
            "Epoch 10/20\n",
            "67/67 [==============================] - 3s 44ms/step - loss: 0.2649 - acc: 0.9057 - val_loss: 0.2590 - val_acc: 0.9100\n",
            "Epoch 11/20\n",
            "67/67 [==============================] - 3s 45ms/step - loss: 0.2640 - acc: 0.9057 - val_loss: 0.2582 - val_acc: 0.9100\n",
            "Epoch 12/20\n",
            "67/67 [==============================] - 3s 44ms/step - loss: 0.2631 - acc: 0.9057 - val_loss: 0.2575 - val_acc: 0.9100\n",
            "Epoch 13/20\n",
            "67/67 [==============================] - 3s 44ms/step - loss: 0.2623 - acc: 0.9057 - val_loss: 0.2569 - val_acc: 0.9097\n",
            "Epoch 14/20\n",
            "67/67 [==============================] - 3s 44ms/step - loss: 0.2615 - acc: 0.9057 - val_loss: 0.2562 - val_acc: 0.9100\n",
            "Epoch 15/20\n",
            "67/67 [==============================] - 3s 44ms/step - loss: 0.2606 - acc: 0.9109 - val_loss: 0.2555 - val_acc: 0.9175\n",
            "Epoch 16/20\n",
            "67/67 [==============================] - 3s 44ms/step - loss: 0.2597 - acc: 0.9138 - val_loss: 0.2547 - val_acc: 0.9175\n",
            "Epoch 17/20\n",
            "67/67 [==============================] - 3s 44ms/step - loss: 0.2589 - acc: 0.9138 - val_loss: 0.2541 - val_acc: 0.9175\n",
            "Epoch 18/20\n",
            "67/67 [==============================] - 3s 43ms/step - loss: 0.2579 - acc: 0.9138 - val_loss: 0.2537 - val_acc: 0.9184\n",
            "Epoch 19/20\n",
            "67/67 [==============================] - 3s 43ms/step - loss: 0.2570 - acc: 0.9163 - val_loss: 0.2529 - val_acc: 0.9209\n",
            "Epoch 20/20\n",
            "67/67 [==============================] - 3s 44ms/step - loss: 0.2563 - acc: 0.9184 - val_loss: 0.2526 - val_acc: 0.9207\n"
          ]
        }
      ]
    },
    {
      "cell_type": "code",
      "source": [
        "#Use plot_history function to plot the model curves for loss and accuracy\n",
        "plot_history(lstm_history_300)"
      ],
      "metadata": {
        "colab": {
          "base_uri": "https://localhost:8080/",
          "height": 590
        },
        "id": "XeKBiVlXxMnR",
        "outputId": "362d2c06-95c0-429f-cbcb-02263101a8a5"
      },
      "execution_count": 41,
      "outputs": [
        {
          "output_type": "stream",
          "name": "stdout",
          "text": [
            "dict_keys(['loss', 'acc', 'val_loss', 'val_acc'])\n"
          ]
        },
        {
          "output_type": "display_data",
          "data": {
            "image/png": "[encoded data removed]",
            "text/plain": [
              "<Figure size 432x288 with 1 Axes>"
            ]
          },
          "metadata": {
            "needs_background": "light"
          }
        },
        {
          "output_type": "display_data",
          "data": {
            "image/png": "[encoded data removed]",
            "text/plain": [
              "<Figure size 432x288 with 1 Axes>"
            ]
          },
          "metadata": {
            "needs_background": "light"
          }
        }
      ]
    },
    {
      "cell_type": "code",
      "metadata": {
        "id": "AQA-jjzrI8_6",
        "colab": {
          "base_uri": "https://localhost:8080/"
        },
        "outputId": "8a247b22-7639-4dac-f4b8-1a82f0a4a7c0"
      },
      "source": [
        "# Use evaluate_on_test function to note accuracy, precision, recall and F1 score on test data\n",
        "evaluate_on_test(X_test_300, y_test_300, training_model_300)"
      ],
      "execution_count": 42,
      "outputs": [
        {
          "output_type": "stream",
          "name": "stdout",
          "text": [
            "Accuracy: 0.917295\n",
            "Precision: 0.981941\n",
            "Recall: 0.128319\n",
            "F1 score: 0.226976\n"
          ]
        }
      ]
    },
    {
      "cell_type": "markdown",
      "metadata": {
        "id": "2_5HNGfkP7I6"
      },
      "source": [
        "# Task 4: Finally apply feature-based classification on the session-feature level data (Session_features.pkl).\n",
        "\n",
        "Apply your best model so far on 70/30 split data for session-feature level data and report your outcome!"
      ]
    },
    {
      "cell_type": "code",
      "metadata": {
        "id": "QQHFIkXGI6zs",
        "colab": {
          "base_uri": "https://localhost:8080/"
        },
        "outputId": "8bfa6589-768f-43d5-b8aa-852f102f0b2b"
      },
      "source": [
        "#data=feat, conrains X and Y(last column)\n",
        "Xf=feat.iloc[:,0:35]\n",
        "Yf=feat.iloc[:,35]\n",
        "#########################START CODE HERE##########################\n",
        "Xf_train, Xf_test, yf_train, yf_test=prepare_train_test_data(np.array(Xf), np.array(pd.get_dummies(Yf))) # Function call to 'prepare_train_test_data' to create 70/30 split data\n",
        "print(Xf_train.shape, yf_train.shape)"
      ],
      "execution_count": 43,
      "outputs": [
        {
          "output_type": "stream",
          "name": "stdout",
          "text": [
            "(1050000, 1, 35) (1050000, 2)\n"
          ]
        }
      ]
    },
    {
      "cell_type": "code",
      "metadata": {
        "id": "GuxjWsu8QPhi",
        "colab": {
          "base_uri": "https://localhost:8080/"
        },
        "outputId": "0b84700d-4bb4-4449-dff9-bbdf585e4829"
      },
      "source": [
        "#Initialize ANY model (RNN or GRU or LSTM)\n",
        "tf.keras.backend.clear_session()\n",
        "training_model_f = LSTM_model(neurons=40, op=35)\n",
        "training_model_f.summary()"
      ],
      "execution_count": 44,
      "outputs": [
        {
          "output_type": "stream",
          "name": "stdout",
          "text": [
            "Model: \"sequential\"\n",
            "_________________________________________________________________\n",
            " Layer (type)                Output Shape              Param #   \n",
            "=================================================================\n",
            " bidirectional (Bidirectiona  (None, 1, 80)            24320     \n",
            " l)                                                              \n",
            "                                                                 \n",
            " bidirectional_1 (Bidirectio  (None, 160)              103040    \n",
            " nal)                                                            \n",
            "                                                                 \n",
            " dense (Dense)               (None, 2)                 322       \n",
            "                                                                 \n",
            "=================================================================\n",
            "Total params: 127,682\n",
            "Trainable params: 127,682\n",
            "Non-trainable params: 0\n",
            "_________________________________________________________________\n"
          ]
        }
      ]
    },
    {
      "cell_type": "code",
      "metadata": {
        "id": "zwukFzm5yYcj",
        "colab": {
          "base_uri": "https://localhost:8080/"
        },
        "outputId": "72a2e602-8de6-460b-abd4-d58744bfb9ff"
      },
      "source": [
        "#Fit your model on Training data (20 epochs, 1000 samples per batch, validation_split=0.2)\n",
        "lstm_history_f = training_model_f.fit(Xf_train, yf_train,\n",
        "                                      epochs=20,\n",
        "                                      batch_size=1000,#atleast 1000 records per epoch\n",
        "                                      validation_split=0.2)"
      ],
      "execution_count": 45,
      "outputs": [
        {
          "output_type": "stream",
          "name": "stdout",
          "text": [
            "Epoch 1/20\n",
            "840/840 [==============================] - 36s 37ms/step - loss: 0.1870 - acc: 0.9319 - val_loss: 0.1487 - val_acc: 0.9368\n",
            "Epoch 2/20\n",
            "840/840 [==============================] - 28s 33ms/step - loss: 0.1434 - acc: 0.9391 - val_loss: 0.1418 - val_acc: 0.9391\n",
            "Epoch 3/20\n",
            "840/840 [==============================] - 28s 33ms/step - loss: 0.1371 - acc: 0.9408 - val_loss: 0.1352 - val_acc: 0.9411\n",
            "Epoch 4/20\n",
            "840/840 [==============================] - 28s 34ms/step - loss: 0.1311 - acc: 0.9427 - val_loss: 0.1287 - val_acc: 0.9439\n",
            "Epoch 5/20\n",
            "840/840 [==============================] - 28s 33ms/step - loss: 0.1237 - acc: 0.9469 - val_loss: 0.1189 - val_acc: 0.9497\n",
            "Epoch 6/20\n",
            "840/840 [==============================] - 28s 33ms/step - loss: 0.1130 - acc: 0.9537 - val_loss: 0.1029 - val_acc: 0.9597\n",
            "Epoch 7/20\n",
            "840/840 [==============================] - 28s 33ms/step - loss: 0.0951 - acc: 0.9640 - val_loss: 0.0850 - val_acc: 0.9684\n",
            "Epoch 8/20\n",
            "840/840 [==============================] - 28s 33ms/step - loss: 0.0786 - acc: 0.9708 - val_loss: 0.0702 - val_acc: 0.9736\n",
            "Epoch 9/20\n",
            "840/840 [==============================] - 28s 33ms/step - loss: 0.0640 - acc: 0.9761 - val_loss: 0.0561 - val_acc: 0.9800\n",
            "Epoch 10/20\n",
            "840/840 [==============================] - 28s 33ms/step - loss: 0.0473 - acc: 0.9825 - val_loss: 0.0566 - val_acc: 0.9799\n",
            "Epoch 11/20\n",
            "840/840 [==============================] - 28s 33ms/step - loss: 0.0277 - acc: 0.9911 - val_loss: 0.0163 - val_acc: 0.9959\n",
            "Epoch 12/20\n",
            "840/840 [==============================] - 28s 33ms/step - loss: 0.0160 - acc: 0.9958 - val_loss: 0.0156 - val_acc: 0.9964\n",
            "Epoch 13/20\n",
            "840/840 [==============================] - 28s 33ms/step - loss: 0.0094 - acc: 0.9979 - val_loss: 0.0151 - val_acc: 0.9958\n",
            "Epoch 14/20\n",
            "840/840 [==============================] - 28s 33ms/step - loss: 0.0252 - acc: 0.9927 - val_loss: 0.0092 - val_acc: 0.9978\n",
            "Epoch 15/20\n",
            "840/840 [==============================] - 28s 33ms/step - loss: 0.0134 - acc: 0.9961 - val_loss: 0.0080 - val_acc: 0.9981\n",
            "Epoch 16/20\n",
            "840/840 [==============================] - 28s 33ms/step - loss: 0.0143 - acc: 0.9955 - val_loss: 0.0188 - val_acc: 0.9933\n",
            "Epoch 17/20\n",
            "840/840 [==============================] - 28s 34ms/step - loss: 0.0091 - acc: 0.9972 - val_loss: 0.0049 - val_acc: 0.9988\n",
            "Epoch 18/20\n",
            "840/840 [==============================] - 28s 34ms/step - loss: 0.0047 - acc: 0.9988 - val_loss: 0.0030 - val_acc: 0.9993\n",
            "Epoch 19/20\n",
            "840/840 [==============================] - 28s 33ms/step - loss: 0.0132 - acc: 0.9959 - val_loss: 0.0192 - val_acc: 0.9934\n",
            "Epoch 20/20\n",
            "840/840 [==============================] - 27s 32ms/step - loss: 0.0079 - acc: 0.9977 - val_loss: 0.0013 - val_acc: 0.9997\n"
          ]
        }
      ]
    },
    {
      "cell_type": "code",
      "metadata": {
        "id": "ILXRxuM_ymWm",
        "colab": {
          "base_uri": "https://localhost:8080/",
          "height": 590
        },
        "outputId": "09d5db1f-d393-4a7e-c36e-7da6dd36a994"
      },
      "source": [
        "#Use plot_history function to plot the model curves for loss and accuracy\n",
        "plot_history(lstm_history_f)"
      ],
      "execution_count": 46,
      "outputs": [
        {
          "output_type": "stream",
          "name": "stdout",
          "text": [
            "dict_keys(['loss', 'acc', 'val_loss', 'val_acc'])\n"
          ]
        },
        {
          "output_type": "display_data",
          "data": {
            "image/png": "[encoded data removed]",
            "text/plain": [
              "<Figure size 432x288 with 1 Axes>"
            ]
          },
          "metadata": {
            "needs_background": "light"
          }
        },
        {
          "output_type": "display_data",
          "data": {
            "image/png": "[encoded data removed]",
            "text/plain": [
              "<Figure size 432x288 with 1 Axes>"
            ]
          },
          "metadata": {
            "needs_background": "light"
          }
        }
      ]
    },
    {
      "cell_type": "code",
      "metadata": {
        "id": "3BhRFSlcyqhT",
        "colab": {
          "base_uri": "https://localhost:8080/"
        },
        "outputId": "3ef04120-ebef-410c-8525-99b5894d7060"
      },
      "source": [
        "# Use evaluate_on_test function to note accuracy, precision, recall and F1 score on test data\n",
        "evaluate_on_test(Xf_test, yf_test, training_model_f)"
      ],
      "execution_count": 47,
      "outputs": [
        {
          "output_type": "stream",
          "name": "stdout",
          "text": [
            "Accuracy: 0.999740\n",
            "Precision: 0.999711\n",
            "Recall: 0.996542\n",
            "F1 score: 0.998124\n"
          ]
        }
      ]
    },
    {
      "cell_type": "markdown",
      "metadata": {
        "id": "ocx8Ydrey0-W"
      },
      "source": [
        "# **Summary and Discussion:** **Discuss** \"What would you report back to your manager?\" \n",
        "# Think in terms of Data, Process and Outcomes specifically.\n",
        "## Consider the following:\n",
        "1. Is feature-level data necessary? What metrics suggest that?\n",
        "2. Is sequence-level data sufficient? What sequence size would you suggest?\n",
        "3. What is the metric/metrics you would use to report your results?\n",
        "\n",
        "#Share screen and discuss findings. Think about generalizability (something that works across data sets)\n"
      ]
    },
    {
      "cell_type": "code",
      "metadata": {
        "id": "pV3hajwrzFPm"
      },
      "source": [
        ""
      ],
      "execution_count": null,
      "outputs": []
    }
  ]
}
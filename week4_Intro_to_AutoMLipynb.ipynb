{
  "nbformat": 4,
  "nbformat_minor": 0,
  "metadata": {
    "colab": {
      "name": "Intro_to_AutoMLipynb.ipynb",
      "provenance": [],
      "collapsed_sections": []
    },
    "kernelspec": {
      "display_name": "Python 3",
      "name": "python3"
    },
    "widgets": {
      "application/vnd.jupyter.widget-state+json": {
        "e369c089730442c5ae99735fe2b0287b": {
          "model_module": "@jupyter-widgets/controls",
          "model_name": "HBoxModel",
          "model_module_version": "1.5.0",
          "state": {
            "_view_name": "HBoxView",
            "_dom_classes": [],
            "_model_name": "HBoxModel",
            "_view_module": "@jupyter-widgets/controls",
            "_model_module_version": "1.5.0",
            "_view_count": null,
            "_view_module_version": "1.5.0",
            "box_style": "",
            "layout": "IPY_MODEL_2e08a44bd3094206b4c9a4ce68288441",
            "_model_module": "@jupyter-widgets/controls",
            "children": [
              "IPY_MODEL_06d8f2f800b34cfcae731ab4282b601a",
              "IPY_MODEL_26cc1eb679ac47868a8dc2815cdcb372",
              "IPY_MODEL_eeb95b8235b44ad0858246327d89aaf7"
            ]
          }
        },
        "2e08a44bd3094206b4c9a4ce68288441": {
          "model_module": "@jupyter-widgets/base",
          "model_name": "LayoutModel",
          "model_module_version": "1.2.0",
          "state": {
            "_view_name": "LayoutView",
            "grid_template_rows": null,
            "right": null,
            "justify_content": null,
            "_view_module": "@jupyter-widgets/base",
            "overflow": null,
            "_model_module_version": "1.2.0",
            "_view_count": null,
            "flex_flow": null,
            "width": null,
            "min_width": null,
            "border": null,
            "align_items": null,
            "bottom": null,
            "_model_module": "@jupyter-widgets/base",
            "top": null,
            "grid_column": null,
            "overflow_y": null,
            "overflow_x": null,
            "grid_auto_flow": null,
            "grid_area": null,
            "grid_template_columns": null,
            "flex": null,
            "_model_name": "LayoutModel",
            "justify_items": null,
            "grid_row": null,
            "max_height": null,
            "align_content": null,
            "visibility": null,
            "align_self": null,
            "height": null,
            "min_height": null,
            "padding": null,
            "grid_auto_rows": null,
            "grid_gap": null,
            "max_width": null,
            "order": null,
            "_view_module_version": "1.2.0",
            "grid_template_areas": null,
            "object_position": null,
            "object_fit": null,
            "grid_auto_columns": null,
            "margin": null,
            "display": null,
            "left": null
          }
        },
        "06d8f2f800b34cfcae731ab4282b601a": {
          "model_module": "@jupyter-widgets/controls",
          "model_name": "HTMLModel",
          "model_module_version": "1.5.0",
          "state": {
            "_view_name": "HTMLView",
            "style": "IPY_MODEL_d7ab4962271c40328587c94aef079f51",
            "_dom_classes": [],
            "description": "",
            "_model_name": "HTMLModel",
            "placeholder": "​",
            "_view_module": "@jupyter-widgets/controls",
            "_model_module_version": "1.5.0",
            "value": "Optimization Progress: ",
            "_view_count": null,
            "_view_module_version": "1.5.0",
            "description_tooltip": null,
            "_model_module": "@jupyter-widgets/controls",
            "layout": "IPY_MODEL_0526a0ed25b4462b83fcdb2c8168985f"
          }
        },
        "26cc1eb679ac47868a8dc2815cdcb372": {
          "model_module": "@jupyter-widgets/controls",
          "model_name": "FloatProgressModel",
          "model_module_version": "1.5.0",
          "state": {
            "_view_name": "ProgressView",
            "style": "IPY_MODEL_6cd95d153a9a4aaba18e43cb5248ca2a",
            "_dom_classes": [],
            "description": "",
            "_model_name": "FloatProgressModel",
            "bar_style": "",
            "max": 300,
            "_view_module": "@jupyter-widgets/controls",
            "_model_module_version": "1.5.0",
            "value": 300,
            "_view_count": null,
            "_view_module_version": "1.5.0",
            "orientation": "horizontal",
            "min": 0,
            "description_tooltip": null,
            "_model_module": "@jupyter-widgets/controls",
            "layout": "IPY_MODEL_22fe035c45854212a1bf2c12ad0a7f12"
          }
        },
        "eeb95b8235b44ad0858246327d89aaf7": {
          "model_module": "@jupyter-widgets/controls",
          "model_name": "HTMLModel",
          "model_module_version": "1.5.0",
          "state": {
            "_view_name": "HTMLView",
            "style": "IPY_MODEL_b1bd265297f942e9b95ba07887f23121",
            "_dom_classes": [],
            "description": "",
            "_model_name": "HTMLModel",
            "placeholder": "​",
            "_view_module": "@jupyter-widgets/controls",
            "_model_module_version": "1.5.0",
            "value": " 305/? [1:34:16&lt;00:00, 20.20s/pipeline]",
            "_view_count": null,
            "_view_module_version": "1.5.0",
            "description_tooltip": null,
            "_model_module": "@jupyter-widgets/controls",
            "layout": "IPY_MODEL_869f718c990d4ed88b50c0bc783fd600"
          }
        },
        "d7ab4962271c40328587c94aef079f51": {
          "model_module": "@jupyter-widgets/controls",
          "model_name": "DescriptionStyleModel",
          "model_module_version": "1.5.0",
          "state": {
            "_view_name": "StyleView",
            "_model_name": "DescriptionStyleModel",
            "description_width": "",
            "_view_module": "@jupyter-widgets/base",
            "_model_module_version": "1.5.0",
            "_view_count": null,
            "_view_module_version": "1.2.0",
            "_model_module": "@jupyter-widgets/controls"
          }
        },
        "0526a0ed25b4462b83fcdb2c8168985f": {
          "model_module": "@jupyter-widgets/base",
          "model_name": "LayoutModel",
          "model_module_version": "1.2.0",
          "state": {
            "_view_name": "LayoutView",
            "grid_template_rows": null,
            "right": null,
            "justify_content": null,
            "_view_module": "@jupyter-widgets/base",
            "overflow": null,
            "_model_module_version": "1.2.0",
            "_view_count": null,
            "flex_flow": null,
            "width": null,
            "min_width": null,
            "border": null,
            "align_items": null,
            "bottom": null,
            "_model_module": "@jupyter-widgets/base",
            "top": null,
            "grid_column": null,
            "overflow_y": null,
            "overflow_x": null,
            "grid_auto_flow": null,
            "grid_area": null,
            "grid_template_columns": null,
            "flex": null,
            "_model_name": "LayoutModel",
            "justify_items": null,
            "grid_row": null,
            "max_height": null,
            "align_content": null,
            "visibility": null,
            "align_self": null,
            "height": null,
            "min_height": null,
            "padding": null,
            "grid_auto_rows": null,
            "grid_gap": null,
            "max_width": null,
            "order": null,
            "_view_module_version": "1.2.0",
            "grid_template_areas": null,
            "object_position": null,
            "object_fit": null,
            "grid_auto_columns": null,
            "margin": null,
            "display": null,
            "left": null
          }
        },
        "6cd95d153a9a4aaba18e43cb5248ca2a": {
          "model_module": "@jupyter-widgets/controls",
          "model_name": "ProgressStyleModel",
          "model_module_version": "1.5.0",
          "state": {
            "_view_name": "StyleView",
            "_model_name": "ProgressStyleModel",
            "description_width": "",
            "_view_module": "@jupyter-widgets/base",
            "_model_module_version": "1.5.0",
            "_view_count": null,
            "_view_module_version": "1.2.0",
            "bar_color": null,
            "_model_module": "@jupyter-widgets/controls"
          }
        },
        "22fe035c45854212a1bf2c12ad0a7f12": {
          "model_module": "@jupyter-widgets/base",
          "model_name": "LayoutModel",
          "model_module_version": "1.2.0",
          "state": {
            "_view_name": "LayoutView",
            "grid_template_rows": null,
            "right": null,
            "justify_content": null,
            "_view_module": "@jupyter-widgets/base",
            "overflow": null,
            "_model_module_version": "1.2.0",
            "_view_count": null,
            "flex_flow": null,
            "width": null,
            "min_width": null,
            "border": null,
            "align_items": null,
            "bottom": null,
            "_model_module": "@jupyter-widgets/base",
            "top": null,
            "grid_column": null,
            "overflow_y": null,
            "overflow_x": null,
            "grid_auto_flow": null,
            "grid_area": null,
            "grid_template_columns": null,
            "flex": null,
            "_model_name": "LayoutModel",
            "justify_items": null,
            "grid_row": null,
            "max_height": null,
            "align_content": null,
            "visibility": null,
            "align_self": null,
            "height": null,
            "min_height": null,
            "padding": null,
            "grid_auto_rows": null,
            "grid_gap": null,
            "max_width": null,
            "order": null,
            "_view_module_version": "1.2.0",
            "grid_template_areas": null,
            "object_position": null,
            "object_fit": null,
            "grid_auto_columns": null,
            "margin": null,
            "display": null,
            "left": null
          }
        },
        "b1bd265297f942e9b95ba07887f23121": {
          "model_module": "@jupyter-widgets/controls",
          "model_name": "DescriptionStyleModel",
          "model_module_version": "1.5.0",
          "state": {
            "_view_name": "StyleView",
            "_model_name": "DescriptionStyleModel",
            "description_width": "",
            "_view_module": "@jupyter-widgets/base",
            "_model_module_version": "1.5.0",
            "_view_count": null,
            "_view_module_version": "1.2.0",
            "_model_module": "@jupyter-widgets/controls"
          }
        },
        "869f718c990d4ed88b50c0bc783fd600": {
          "model_module": "@jupyter-widgets/base",
          "model_name": "LayoutModel",
          "model_module_version": "1.2.0",
          "state": {
            "_view_name": "LayoutView",
            "grid_template_rows": null,
            "right": null,
            "justify_content": null,
            "_view_module": "@jupyter-widgets/base",
            "overflow": null,
            "_model_module_version": "1.2.0",
            "_view_count": null,
            "flex_flow": null,
            "width": null,
            "min_width": null,
            "border": null,
            "align_items": null,
            "bottom": null,
            "_model_module": "@jupyter-widgets/base",
            "top": null,
            "grid_column": null,
            "overflow_y": null,
            "overflow_x": null,
            "grid_auto_flow": null,
            "grid_area": null,
            "grid_template_columns": null,
            "flex": null,
            "_model_name": "LayoutModel",
            "justify_items": null,
            "grid_row": null,
            "max_height": null,
            "align_content": null,
            "visibility": null,
            "align_self": null,
            "height": null,
            "min_height": null,
            "padding": null,
            "grid_auto_rows": null,
            "grid_gap": null,
            "max_width": null,
            "order": null,
            "_view_module_version": "1.2.0",
            "grid_template_areas": null,
            "object_position": null,
            "object_fit": null,
            "grid_auto_columns": null,
            "margin": null,
            "display": null,
            "left": null
          }
        },
        "7cf4f5ec4ef24574937620ffd4ec3e6e": {
          "model_module": "@jupyter-widgets/controls",
          "model_name": "HBoxModel",
          "model_module_version": "1.5.0",
          "state": {
            "_view_name": "HBoxView",
            "_dom_classes": [],
            "_model_name": "HBoxModel",
            "_view_module": "@jupyter-widgets/controls",
            "_model_module_version": "1.5.0",
            "_view_count": null,
            "_view_module_version": "1.5.0",
            "box_style": "",
            "layout": "IPY_MODEL_4e3aa4985dae4a7c8c79731b842fd376",
            "_model_module": "@jupyter-widgets/controls",
            "children": [
              "IPY_MODEL_60d35719245046e7b20e4054465e32f7",
              "IPY_MODEL_a8c6c40b9fe4426ea11c29503a81b27f"
            ]
          }
        },
        "4e3aa4985dae4a7c8c79731b842fd376": {
          "model_module": "@jupyter-widgets/base",
          "model_name": "LayoutModel",
          "model_module_version": "1.2.0",
          "state": {
            "_view_name": "LayoutView",
            "grid_template_rows": null,
            "right": null,
            "justify_content": null,
            "_view_module": "@jupyter-widgets/base",
            "overflow": null,
            "_model_module_version": "1.2.0",
            "_view_count": null,
            "flex_flow": null,
            "width": null,
            "min_width": null,
            "border": null,
            "align_items": null,
            "bottom": null,
            "_model_module": "@jupyter-widgets/base",
            "top": null,
            "grid_column": null,
            "overflow_y": null,
            "overflow_x": null,
            "grid_auto_flow": null,
            "grid_area": null,
            "grid_template_columns": null,
            "flex": null,
            "_model_name": "LayoutModel",
            "justify_items": null,
            "grid_row": null,
            "max_height": null,
            "align_content": null,
            "visibility": null,
            "align_self": null,
            "height": null,
            "min_height": null,
            "padding": null,
            "grid_auto_rows": null,
            "grid_gap": null,
            "max_width": null,
            "order": null,
            "_view_module_version": "1.2.0",
            "grid_template_areas": null,
            "object_position": null,
            "object_fit": null,
            "grid_auto_columns": null,
            "margin": null,
            "display": null,
            "left": null
          }
        },
        "60d35719245046e7b20e4054465e32f7": {
          "model_module": "@jupyter-widgets/controls",
          "model_name": "FloatProgressModel",
          "model_module_version": "1.5.0",
          "state": {
            "_view_name": "ProgressView",
            "style": "IPY_MODEL_1adb26590ea04f39b50a0cde10ee2c24",
            "_dom_classes": [],
            "description": "Optimization Progress: ",
            "_model_name": "FloatProgressModel",
            "bar_style": "",
            "max": 300,
            "_view_module": "@jupyter-widgets/controls",
            "_model_module_version": "1.5.0",
            "value": 300,
            "_view_count": null,
            "_view_module_version": "1.5.0",
            "orientation": "horizontal",
            "min": 0,
            "description_tooltip": null,
            "_model_module": "@jupyter-widgets/controls",
            "layout": "IPY_MODEL_77cf8489a85346b7aaffdb40ea86517e"
          }
        },
        "a8c6c40b9fe4426ea11c29503a81b27f": {
          "model_module": "@jupyter-widgets/controls",
          "model_name": "HTMLModel",
          "model_module_version": "1.5.0",
          "state": {
            "_view_name": "HTMLView",
            "style": "IPY_MODEL_9767b003bb954ae687b7577518346c2d",
            "_dom_classes": [],
            "description": "",
            "_model_name": "HTMLModel",
            "placeholder": "​",
            "_view_module": "@jupyter-widgets/controls",
            "_model_module_version": "1.5.0",
            "value": " 301/? [1:27:19&lt;00:00, 12.31s/pipeline]",
            "_view_count": null,
            "_view_module_version": "1.5.0",
            "description_tooltip": null,
            "_model_module": "@jupyter-widgets/controls",
            "layout": "IPY_MODEL_ffed6a95a57547c6bc76d619484517eb"
          }
        },
        "1adb26590ea04f39b50a0cde10ee2c24": {
          "model_module": "@jupyter-widgets/controls",
          "model_name": "ProgressStyleModel",
          "model_module_version": "1.5.0",
          "state": {
            "_view_name": "StyleView",
            "_model_name": "ProgressStyleModel",
            "description_width": "initial",
            "_view_module": "@jupyter-widgets/base",
            "_model_module_version": "1.5.0",
            "_view_count": null,
            "_view_module_version": "1.2.0",
            "bar_color": null,
            "_model_module": "@jupyter-widgets/controls"
          }
        },
        "77cf8489a85346b7aaffdb40ea86517e": {
          "model_module": "@jupyter-widgets/base",
          "model_name": "LayoutModel",
          "model_module_version": "1.2.0",
          "state": {
            "_view_name": "LayoutView",
            "grid_template_rows": null,
            "right": null,
            "justify_content": null,
            "_view_module": "@jupyter-widgets/base",
            "overflow": null,
            "_model_module_version": "1.2.0",
            "_view_count": null,
            "flex_flow": null,
            "width": null,
            "min_width": null,
            "border": null,
            "align_items": null,
            "bottom": null,
            "_model_module": "@jupyter-widgets/base",
            "top": null,
            "grid_column": null,
            "overflow_y": null,
            "overflow_x": null,
            "grid_auto_flow": null,
            "grid_area": null,
            "grid_template_columns": null,
            "flex": null,
            "_model_name": "LayoutModel",
            "justify_items": null,
            "grid_row": null,
            "max_height": null,
            "align_content": null,
            "visibility": null,
            "align_self": null,
            "height": null,
            "min_height": null,
            "padding": null,
            "grid_auto_rows": null,
            "grid_gap": null,
            "max_width": null,
            "order": null,
            "_view_module_version": "1.2.0",
            "grid_template_areas": null,
            "object_position": null,
            "object_fit": null,
            "grid_auto_columns": null,
            "margin": null,
            "display": null,
            "left": null
          }
        },
        "9767b003bb954ae687b7577518346c2d": {
          "model_module": "@jupyter-widgets/controls",
          "model_name": "DescriptionStyleModel",
          "model_module_version": "1.5.0",
          "state": {
            "_view_name": "StyleView",
            "_model_name": "DescriptionStyleModel",
            "description_width": "",
            "_view_module": "@jupyter-widgets/base",
            "_model_module_version": "1.5.0",
            "_view_count": null,
            "_view_module_version": "1.2.0",
            "_model_module": "@jupyter-widgets/controls"
          }
        },
        "ffed6a95a57547c6bc76d619484517eb": {
          "model_module": "@jupyter-widgets/base",
          "model_name": "LayoutModel",
          "model_module_version": "1.2.0",
          "state": {
            "_view_name": "LayoutView",
            "grid_template_rows": null,
            "right": null,
            "justify_content": null,
            "_view_module": "@jupyter-widgets/base",
            "overflow": null,
            "_model_module_version": "1.2.0",
            "_view_count": null,
            "flex_flow": null,
            "width": null,
            "min_width": null,
            "border": null,
            "align_items": null,
            "bottom": null,
            "_model_module": "@jupyter-widgets/base",
            "top": null,
            "grid_column": null,
            "overflow_y": null,
            "overflow_x": null,
            "grid_auto_flow": null,
            "grid_area": null,
            "grid_template_columns": null,
            "flex": null,
            "_model_name": "LayoutModel",
            "justify_items": null,
            "grid_row": null,
            "max_height": null,
            "align_content": null,
            "visibility": null,
            "align_self": null,
            "height": null,
            "min_height": null,
            "padding": null,
            "grid_auto_rows": null,
            "grid_gap": null,
            "max_width": null,
            "order": null,
            "_view_module_version": "1.2.0",
            "grid_template_areas": null,
            "object_position": null,
            "object_fit": null,
            "grid_auto_columns": null,
            "margin": null,
            "display": null,
            "left": null
          }
        }
      }
    }
  },
  "cells": [
    {
      "cell_type": "markdown",
      "metadata": {
        "id": "9F_yqSWA6eDE"
      },
      "source": [
        "# AutoML can be a strong tool to ensure optimal data models while scaling applications and to maintain repeatability.\n",
        "## In this session we explore the capabilities of AutoML through TPOT (Tree-Based Pipeline Optimization Tool) with possible extensions to autosklearn libraries.\n",
        "\n",
        "## The data set is a subsection of the data we worked on for the Live In class assignment for Classification (Machine Learning Engineer@Walmart Labs). We use 25k random samples from train and test data, respectively for this exercise (to demonstrate AutoML libraries).\n",
        "\n",
        "### Created by Sohini Roychowdhury for FourthBrain.ai"
      ]
    },
    {
      "cell_type": "markdown",
      "metadata": {
        "id": "ToenLVdS66oN"
      },
      "source": [
        "## Task 1, Data Loading: Load the data and create Training and Test data sets.\n",
        "We look first 25k samples from the training and test data sets from the Week 2 Live assignment. The data is pre-wrangled and one-hot encoded already."
      ]
    },
    {
      "cell_type": "code",
      "metadata": {
        "id": "-dqXIOAc64vU"
      },
      "source": [
        "## Importing required Libraries\n",
        "import os\n",
        "import tensorflow as tf\n",
        "import numpy as np\n",
        "import pandas as pd\n",
        "import seaborn as sns"
      ],
      "execution_count": 1,
      "outputs": []
    },
    {
      "cell_type": "code",
      "metadata": {
        "id": "22SLxFTh7JIS",
        "colab": {
          "base_uri": "https://localhost:8080/",
          "height": 224
        },
        "outputId": "81bc4507-945d-48b4-c955-37c473b55186"
      },
      "source": [
        "#Read the training data\n",
        "url = 'https://raw.githubusercontent.com/FourthBrain/AutoMLA/main/Train_data.csv'\n",
        "df = pd.read_csv(url, error_bad_lines=False)\n",
        "df.head()"
      ],
      "execution_count": 2,
      "outputs": [
        {
          "output_type": "execute_result",
          "data": {
            "text/html": [
              "<div>\n",
              "<style scoped>\n",
              "    .dataframe tbody tr th:only-of-type {\n",
              "        vertical-align: middle;\n",
              "    }\n",
              "\n",
              "    .dataframe tbody tr th {\n",
              "        vertical-align: top;\n",
              "    }\n",
              "\n",
              "    .dataframe thead th {\n",
              "        text-align: right;\n",
              "    }\n",
              "</style>\n",
              "<table border=\"1\" class=\"dataframe\">\n",
              "  <thead>\n",
              "    <tr style=\"text-align: right;\">\n",
              "      <th></th>\n",
              "      <th>NumOfEventsInJourney</th>\n",
              "      <th>NumSessions</th>\n",
              "      <th>interactionTime</th>\n",
              "      <th>maxPrice</th>\n",
              "      <th>minPrice</th>\n",
              "      <th>NumCart</th>\n",
              "      <th>NumView</th>\n",
              "      <th>InsessionCart</th>\n",
              "      <th>InsessionView</th>\n",
              "      <th>year</th>\n",
              "      <th>month</th>\n",
              "      <th>weekday</th>\n",
              "      <th>timeOfDay</th>\n",
              "      <th>Weekend</th>\n",
              "      <th>Purchase</th>\n",
              "    </tr>\n",
              "  </thead>\n",
              "  <tbody>\n",
              "    <tr>\n",
              "      <th>0</th>\n",
              "      <td>1</td>\n",
              "      <td>1</td>\n",
              "      <td>0</td>\n",
              "      <td>50.63</td>\n",
              "      <td>50.63</td>\n",
              "      <td>0</td>\n",
              "      <td>0</td>\n",
              "      <td>0</td>\n",
              "      <td>0</td>\n",
              "      <td>2019</td>\n",
              "      <td>11</td>\n",
              "      <td>7</td>\n",
              "      <td>2</td>\n",
              "      <td>0</td>\n",
              "      <td>1</td>\n",
              "    </tr>\n",
              "    <tr>\n",
              "      <th>1</th>\n",
              "      <td>1</td>\n",
              "      <td>1</td>\n",
              "      <td>0</td>\n",
              "      <td>126.00</td>\n",
              "      <td>126.00</td>\n",
              "      <td>0</td>\n",
              "      <td>1</td>\n",
              "      <td>0</td>\n",
              "      <td>1</td>\n",
              "      <td>2019</td>\n",
              "      <td>11</td>\n",
              "      <td>5</td>\n",
              "      <td>1</td>\n",
              "      <td>0</td>\n",
              "      <td>0</td>\n",
              "    </tr>\n",
              "    <tr>\n",
              "      <th>2</th>\n",
              "      <td>1</td>\n",
              "      <td>1</td>\n",
              "      <td>0</td>\n",
              "      <td>334.60</td>\n",
              "      <td>334.60</td>\n",
              "      <td>0</td>\n",
              "      <td>1</td>\n",
              "      <td>0</td>\n",
              "      <td>1</td>\n",
              "      <td>2019</td>\n",
              "      <td>11</td>\n",
              "      <td>2</td>\n",
              "      <td>1</td>\n",
              "      <td>0</td>\n",
              "      <td>0</td>\n",
              "    </tr>\n",
              "    <tr>\n",
              "      <th>3</th>\n",
              "      <td>1</td>\n",
              "      <td>1</td>\n",
              "      <td>0</td>\n",
              "      <td>43.24</td>\n",
              "      <td>43.24</td>\n",
              "      <td>0</td>\n",
              "      <td>1</td>\n",
              "      <td>0</td>\n",
              "      <td>1</td>\n",
              "      <td>2019</td>\n",
              "      <td>11</td>\n",
              "      <td>3</td>\n",
              "      <td>5</td>\n",
              "      <td>0</td>\n",
              "      <td>0</td>\n",
              "    </tr>\n",
              "    <tr>\n",
              "      <th>4</th>\n",
              "      <td>1</td>\n",
              "      <td>1</td>\n",
              "      <td>0</td>\n",
              "      <td>421.38</td>\n",
              "      <td>421.38</td>\n",
              "      <td>0</td>\n",
              "      <td>1</td>\n",
              "      <td>0</td>\n",
              "      <td>2</td>\n",
              "      <td>2019</td>\n",
              "      <td>11</td>\n",
              "      <td>7</td>\n",
              "      <td>2</td>\n",
              "      <td>0</td>\n",
              "      <td>0</td>\n",
              "    </tr>\n",
              "  </tbody>\n",
              "</table>\n",
              "</div>"
            ],
            "text/plain": [
              "   NumOfEventsInJourney  NumSessions  ...  Weekend  Purchase\n",
              "0                     1            1  ...        0         1\n",
              "1                     1            1  ...        0         0\n",
              "2                     1            1  ...        0         0\n",
              "3                     1            1  ...        0         0\n",
              "4                     1            1  ...        0         0\n",
              "\n",
              "[5 rows x 15 columns]"
            ]
          },
          "metadata": {},
          "execution_count": 2
        }
      ]
    },
    {
      "cell_type": "code",
      "metadata": {
        "id": "sztUukLE7fgS",
        "colab": {
          "base_uri": "https://localhost:8080/"
        },
        "outputId": "39367684-4569-4fe3-a8b8-2b23e4a97a46"
      },
      "source": [
        "X_train=df.iloc[:,:-1].values\n",
        "y_train=df.iloc[:,-1].values\n",
        "print(X_train.shape)"
      ],
      "execution_count": 3,
      "outputs": [
        {
          "output_type": "stream",
          "name": "stdout",
          "text": [
            "(25000, 14)\n"
          ]
        }
      ]
    },
    {
      "cell_type": "code",
      "metadata": {
        "id": "2xG-LUZZ7s-5",
        "colab": {
          "base_uri": "https://localhost:8080/",
          "height": 241
        },
        "outputId": "5782d927-d834-443b-ec71-3161b149e029"
      },
      "source": [
        "#Now read and create test data\n",
        "url_t = 'https://raw.githubusercontent.com/FourthBrain/AutoMLA/main/Test_data.csv'\n",
        "df_test = pd.read_csv(url_t, error_bad_lines=False)\n",
        "X_test=df_test.iloc[:,:-1].values\n",
        "y_test=df_test.iloc[:,-1].values\n",
        "print(X_test.shape)\n",
        "df_test.head()"
      ],
      "execution_count": 4,
      "outputs": [
        {
          "output_type": "stream",
          "name": "stdout",
          "text": [
            "(25000, 14)\n"
          ]
        },
        {
          "output_type": "execute_result",
          "data": {
            "text/html": [
              "<div>\n",
              "<style scoped>\n",
              "    .dataframe tbody tr th:only-of-type {\n",
              "        vertical-align: middle;\n",
              "    }\n",
              "\n",
              "    .dataframe tbody tr th {\n",
              "        vertical-align: top;\n",
              "    }\n",
              "\n",
              "    .dataframe thead th {\n",
              "        text-align: right;\n",
              "    }\n",
              "</style>\n",
              "<table border=\"1\" class=\"dataframe\">\n",
              "  <thead>\n",
              "    <tr style=\"text-align: right;\">\n",
              "      <th></th>\n",
              "      <th>NumOfEventsInJourney</th>\n",
              "      <th>NumSessions</th>\n",
              "      <th>interactionTime</th>\n",
              "      <th>maxPrice</th>\n",
              "      <th>minPrice</th>\n",
              "      <th>NumCart</th>\n",
              "      <th>NumView</th>\n",
              "      <th>InsessionCart</th>\n",
              "      <th>InsessionView</th>\n",
              "      <th>year</th>\n",
              "      <th>month</th>\n",
              "      <th>weekday</th>\n",
              "      <th>timeOfDay</th>\n",
              "      <th>Weekend</th>\n",
              "      <th>Purchase</th>\n",
              "    </tr>\n",
              "  </thead>\n",
              "  <tbody>\n",
              "    <tr>\n",
              "      <th>0</th>\n",
              "      <td>2</td>\n",
              "      <td>1</td>\n",
              "      <td>30</td>\n",
              "      <td>242.99</td>\n",
              "      <td>242.99</td>\n",
              "      <td>0</td>\n",
              "      <td>2</td>\n",
              "      <td>0</td>\n",
              "      <td>4</td>\n",
              "      <td>2019</td>\n",
              "      <td>11</td>\n",
              "      <td>5</td>\n",
              "      <td>4</td>\n",
              "      <td>0</td>\n",
              "      <td>0</td>\n",
              "    </tr>\n",
              "    <tr>\n",
              "      <th>1</th>\n",
              "      <td>1</td>\n",
              "      <td>1</td>\n",
              "      <td>0</td>\n",
              "      <td>869.11</td>\n",
              "      <td>869.11</td>\n",
              "      <td>0</td>\n",
              "      <td>1</td>\n",
              "      <td>0</td>\n",
              "      <td>1</td>\n",
              "      <td>2019</td>\n",
              "      <td>11</td>\n",
              "      <td>6</td>\n",
              "      <td>3</td>\n",
              "      <td>0</td>\n",
              "      <td>0</td>\n",
              "    </tr>\n",
              "    <tr>\n",
              "      <th>2</th>\n",
              "      <td>1</td>\n",
              "      <td>1</td>\n",
              "      <td>0</td>\n",
              "      <td>715.33</td>\n",
              "      <td>715.33</td>\n",
              "      <td>1</td>\n",
              "      <td>0</td>\n",
              "      <td>1</td>\n",
              "      <td>0</td>\n",
              "      <td>2019</td>\n",
              "      <td>11</td>\n",
              "      <td>5</td>\n",
              "      <td>6</td>\n",
              "      <td>0</td>\n",
              "      <td>0</td>\n",
              "    </tr>\n",
              "    <tr>\n",
              "      <th>3</th>\n",
              "      <td>1</td>\n",
              "      <td>1</td>\n",
              "      <td>0</td>\n",
              "      <td>771.27</td>\n",
              "      <td>771.27</td>\n",
              "      <td>0</td>\n",
              "      <td>1</td>\n",
              "      <td>0</td>\n",
              "      <td>1</td>\n",
              "      <td>2019</td>\n",
              "      <td>11</td>\n",
              "      <td>5</td>\n",
              "      <td>3</td>\n",
              "      <td>0</td>\n",
              "      <td>0</td>\n",
              "    </tr>\n",
              "    <tr>\n",
              "      <th>4</th>\n",
              "      <td>1</td>\n",
              "      <td>1</td>\n",
              "      <td>0</td>\n",
              "      <td>15.42</td>\n",
              "      <td>15.42</td>\n",
              "      <td>0</td>\n",
              "      <td>1</td>\n",
              "      <td>0</td>\n",
              "      <td>1</td>\n",
              "      <td>2019</td>\n",
              "      <td>11</td>\n",
              "      <td>1</td>\n",
              "      <td>5</td>\n",
              "      <td>0</td>\n",
              "      <td>0</td>\n",
              "    </tr>\n",
              "  </tbody>\n",
              "</table>\n",
              "</div>"
            ],
            "text/plain": [
              "   NumOfEventsInJourney  NumSessions  ...  Weekend  Purchase\n",
              "0                     2            1  ...        0         0\n",
              "1                     1            1  ...        0         0\n",
              "2                     1            1  ...        0         0\n",
              "3                     1            1  ...        0         0\n",
              "4                     1            1  ...        0         0\n",
              "\n",
              "[5 rows x 15 columns]"
            ]
          },
          "metadata": {},
          "execution_count": 4
        }
      ]
    },
    {
      "cell_type": "markdown",
      "metadata": {
        "id": "zZYARfkm8ewN"
      },
      "source": [
        "# Task 2, Baselining: Apply Logistic Regression, Linear SVM and Random forest (as done in class) to get some baseline classification performances to classsify purchase vs non purchase records."
      ]
    },
    {
      "cell_type": "code",
      "metadata": {
        "id": "b0Nds24N8ubR"
      },
      "source": [
        "from sklearn.linear_model import LogisticRegression\n",
        "from sklearn.metrics import confusion_matrix\n",
        "from sklearn.metrics import accuracy_score as accuracy\n",
        "from sklearn.metrics import recall_score as recall\n",
        "from sklearn.metrics import precision_score as precision\n",
        "from sklearn.metrics import f1_score\n",
        "from sklearn.pipeline import make_pipeline\n",
        "from sklearn.preprocessing import StandardScaler\n",
        "from sklearn.svm import LinearSVC"
      ],
      "execution_count": 5,
      "outputs": []
    },
    {
      "cell_type": "code",
      "metadata": {
        "id": "rc7P_cLE8z4l",
        "colab": {
          "base_uri": "https://localhost:8080/"
        },
        "outputId": "6f5c186f-22ac-439c-81d1-2f7f99727121"
      },
      "source": [
        "#i. Balanced Logistic Regression\n",
        "regb = LogisticRegression(random_state=42, C=0.05,class_weight='balanced').fit(X_train, y_train)\n",
        "reg_predb = regb.predict(X_test)\n",
        "cmlog = confusion_matrix(y_test, reg_predb)\n",
        "acc   = accuracy(y_test, reg_predb)\n",
        "rec   = recall(y_test, reg_predb)\n",
        "prec  = precision(y_test, reg_predb)\n",
        "f1    = f1_score(y_test, reg_predb)\n",
        "### END CODE HERE ###\n",
        "# Print the metrics, display the confusion matrix, and visualize the model\n",
        "print(f'Accuracy = {acc}, Precision = {prec}, Recall = {rec}, F1-score = {f1}')\n",
        "print('Confusion Matrix is:')\n",
        "print(cmlog)"
      ],
      "execution_count": 6,
      "outputs": [
        {
          "output_type": "stream",
          "name": "stdout",
          "text": [
            "Accuracy = 0.94348, Precision = 0.19660620245757754, Recall = 0.8936170212765957, F1-score = 0.32230215827338127\n",
            "Confusion Matrix is:\n",
            "[[23251  1373]\n",
            " [   40   336]]\n"
          ]
        }
      ]
    },
    {
      "cell_type": "code",
      "metadata": {
        "id": "QUQVHRGa9M5_",
        "colab": {
          "base_uri": "https://localhost:8080/"
        },
        "outputId": "309f5698-28f1-4c82-87fc-04a0d2ba074f"
      },
      "source": [
        "#ii. Linear SVM\n",
        "svmm = make_pipeline(StandardScaler(),LinearSVC(random_state=42, tol=1e-1,class_weight='balanced'))\n",
        "svmm.fit(X_train, y_train)\n",
        "svm_predb = svmm.predict(X_test)\n",
        "cms  = confusion_matrix(y_test, svm_predb)\n",
        "acc  = accuracy(y_test, svm_predb)\n",
        "rec  = recall(y_test, svm_predb)\n",
        "prec = precision(y_test, svm_predb)\n",
        "f1   = f1_score(y_test, svm_predb)\n",
        "### END CODE HERE ###\n",
        "# Print the metrics, display the confusion matrix, and visualize the model\n",
        "print(f'Accuracy = {acc}, Precision = {prec}, Recall = {rec}, F1-score = {f1}')\n",
        "print('Confusion Matrix is:')\n",
        "print(cms)"
      ],
      "execution_count": 7,
      "outputs": [
        {
          "output_type": "stream",
          "name": "stdout",
          "text": [
            "Accuracy = 1.0, Precision = 1.0, Recall = 1.0, F1-score = 1.0\n",
            "Confusion Matrix is:\n",
            "[[24624     0]\n",
            " [    0   376]]\n"
          ]
        }
      ]
    },
    {
      "cell_type": "code",
      "metadata": {
        "id": "hfAJsw5_9kan",
        "colab": {
          "base_uri": "https://localhost:8080/"
        },
        "outputId": "e0be7e0a-3635-42e1-8e23-3a8e431959e0"
      },
      "source": [
        "#iii. Random Forest\n",
        "from sklearn.ensemble import RandomForestClassifier\n",
        "\n",
        "rf_model = RandomForestClassifier(random_state=1, max_depth=20)\n",
        "rf_model.fit(X_train, y_train)\n",
        "rf_pred = rf_model.predict(X_test)\n",
        "cmrf=confusion_matrix(y_test, rf_pred)\n",
        "acc  = accuracy(y_test, rf_pred)\n",
        "rec  = recall(y_test, rf_pred)\n",
        "prec = precision(y_test, rf_pred)\n",
        "f1   = f1_score(y_test, rf_pred)\n",
        "print(f'Accuracy = {acc}, Precision = {prec}, Recall = {rec}, F1-score = {f1}')\n",
        "print('Confusion Matrix is:')\n",
        "print(cmrf)"
      ],
      "execution_count": 8,
      "outputs": [
        {
          "output_type": "stream",
          "name": "stdout",
          "text": [
            "Accuracy = 0.99868, Precision = 1.0, Recall = 0.9122340425531915, F1-score = 0.9541029207232268\n",
            "Confusion Matrix is:\n",
            "[[24624     0]\n",
            " [   33   343]]\n"
          ]
        }
      ]
    },
    {
      "cell_type": "markdown",
      "metadata": {
        "id": "Y0eMvVqEGuV0"
      },
      "source": [
        "# Task 3: Run AutoML using TPOT (Tree-based Pipeline Optimization Tool). Consider TPOT your Data Science Assistant.\n",
        "\n",
        "TPOT will automate the most tedious part of machine learning by intelligently exploring thousands of possible pipelines to find the best one for your data.\n",
        "\n",
        "[Docu](http://epistasislab.github.io/tpot/using/),\n",
        "[Github Code](https://github.com/EpistasisLab/tpot)\n",
        "\n",
        "[Paper] (https://academic.oup.com/bioinformatics/article/36/1/250/5511404)\n",
        "\n",
        "## Blog: https://machinelearningmastery.com/tpot-for-automated-machine-learning-in-python/"
      ]
    },
    {
      "cell_type": "markdown",
      "metadata": {
        "id": "ONJ7fd7sqciK"
      },
      "source": [
        "# Installation\n",
        "\n",
        "The notebook was created based on \n",
        "tpot 0.11.6"
      ]
    },
    {
      "cell_type": "code",
      "metadata": {
        "id": "0i3oHFF5qgGO",
        "colab": {
          "base_uri": "https://localhost:8080/"
        },
        "outputId": "522b615a-cfac-453c-a921-74e3b1affe01"
      },
      "source": [
        "!pip install tpot"
      ],
      "execution_count": 9,
      "outputs": [
        {
          "output_type": "stream",
          "name": "stdout",
          "text": [
            "Collecting tpot\n",
            "  Downloading TPOT-0.11.7-py3-none-any.whl (87 kB)\n",
            "\u001b[?25l\r\u001b[K     |███▊                            | 10 kB 18.6 MB/s eta 0:00:01\r\u001b[K     |███████▌                        | 20 kB 23.8 MB/s eta 0:00:01\r\u001b[K     |███████████▎                    | 30 kB 27.8 MB/s eta 0:00:01\r\u001b[K     |███████████████                 | 40 kB 21.2 MB/s eta 0:00:01\r\u001b[K     |██████████████████▉             | 51 kB 18.7 MB/s eta 0:00:01\r\u001b[K     |██████████████████████▋         | 61 kB 14.2 MB/s eta 0:00:01\r\u001b[K     |██████████████████████████▎     | 71 kB 14.7 MB/s eta 0:00:01\r\u001b[K     |██████████████████████████████  | 81 kB 16.1 MB/s eta 0:00:01\r\u001b[K     |████████████████████████████████| 87 kB 4.4 MB/s \n",
            "\u001b[?25hRequirement already satisfied: numpy>=1.16.3 in /usr/local/lib/python3.7/dist-packages (from tpot) (1.19.5)\n",
            "Collecting stopit>=1.1.1\n",
            "  Downloading stopit-1.1.2.tar.gz (18 kB)\n",
            "Requirement already satisfied: tqdm>=4.36.1 in /usr/local/lib/python3.7/dist-packages (from tpot) (4.62.3)\n",
            "Collecting xgboost>=1.1.0\n",
            "  Downloading xgboost-1.5.0-py3-none-manylinux2014_x86_64.whl (173.5 MB)\n",
            "\u001b[K     |████████████████████████████████| 173.5 MB 64 kB/s \n",
            "\u001b[?25hRequirement already satisfied: pandas>=0.24.2 in /usr/local/lib/python3.7/dist-packages (from tpot) (1.1.5)\n",
            "Requirement already satisfied: scipy>=1.3.1 in /usr/local/lib/python3.7/dist-packages (from tpot) (1.4.1)\n",
            "Collecting update-checker>=0.16\n",
            "  Downloading update_checker-0.18.0-py3-none-any.whl (7.0 kB)\n",
            "Requirement already satisfied: scikit-learn>=0.22.0 in /usr/local/lib/python3.7/dist-packages (from tpot) (0.22.2.post1)\n",
            "Requirement already satisfied: joblib>=0.13.2 in /usr/local/lib/python3.7/dist-packages (from tpot) (1.1.0)\n",
            "Collecting deap>=1.2\n",
            "  Downloading deap-1.3.1-cp37-cp37m-manylinux_2_5_x86_64.manylinux1_x86_64.manylinux_2_12_x86_64.manylinux2010_x86_64.whl (160 kB)\n",
            "\u001b[K     |████████████████████████████████| 160 kB 40.6 MB/s \n",
            "\u001b[?25hRequirement already satisfied: python-dateutil>=2.7.3 in /usr/local/lib/python3.7/dist-packages (from pandas>=0.24.2->tpot) (2.8.2)\n",
            "Requirement already satisfied: pytz>=2017.2 in /usr/local/lib/python3.7/dist-packages (from pandas>=0.24.2->tpot) (2018.9)\n",
            "Requirement already satisfied: six>=1.5 in /usr/local/lib/python3.7/dist-packages (from python-dateutil>=2.7.3->pandas>=0.24.2->tpot) (1.15.0)\n",
            "Requirement already satisfied: requests>=2.3.0 in /usr/local/lib/python3.7/dist-packages (from update-checker>=0.16->tpot) (2.23.0)\n",
            "Requirement already satisfied: urllib3!=1.25.0,!=1.25.1,<1.26,>=1.21.1 in /usr/local/lib/python3.7/dist-packages (from requests>=2.3.0->update-checker>=0.16->tpot) (1.24.3)\n",
            "Requirement already satisfied: idna<3,>=2.5 in /usr/local/lib/python3.7/dist-packages (from requests>=2.3.0->update-checker>=0.16->tpot) (2.10)\n",
            "Requirement already satisfied: chardet<4,>=3.0.2 in /usr/local/lib/python3.7/dist-packages (from requests>=2.3.0->update-checker>=0.16->tpot) (3.0.4)\n",
            "Requirement already satisfied: certifi>=2017.4.17 in /usr/local/lib/python3.7/dist-packages (from requests>=2.3.0->update-checker>=0.16->tpot) (2021.10.8)\n",
            "Building wheels for collected packages: stopit\n",
            "  Building wheel for stopit (setup.py) ... \u001b[?25l\u001b[?25hdone\n",
            "  Created wheel for stopit: filename=stopit-1.1.2-py3-none-any.whl size=11952 sha256=223f6fdd6ef4bc13581a29f3dcafd9df3ac4487b7f285b073a367a08213e1a63\n",
            "  Stored in directory: /root/.cache/pip/wheels/e2/d2/79/eaf81edb391e27c87f51b8ef901ecc85a5363dc96b8b8d71e3\n",
            "Successfully built stopit\n",
            "Installing collected packages: xgboost, update-checker, stopit, deap, tpot\n",
            "  Attempting uninstall: xgboost\n",
            "    Found existing installation: xgboost 0.90\n",
            "    Uninstalling xgboost-0.90:\n",
            "      Successfully uninstalled xgboost-0.90\n",
            "Successfully installed deap-1.3.1 stopit-1.1.2 tpot-0.11.7 update-checker-0.18.0 xgboost-1.5.0\n"
          ]
        }
      ]
    },
    {
      "cell_type": "code",
      "metadata": {
        "id": "UInC289AuB75"
      },
      "source": [
        "# ignore some annoying warnings for demonstrating auto-sklearn \n",
        "# shouldn't be done in real production\n",
        "np.warnings.filterwarnings('ignore')"
      ],
      "execution_count": 10,
      "outputs": []
    },
    {
      "cell_type": "markdown",
      "metadata": {
        "id": "0JUWCq3vsE8P"
      },
      "source": [
        "# Task 3a.\n",
        "\n",
        "We want to find the best classifier for the data set at hand.\n",
        "TPOT aids hyper-parameterization across the following class of classifiers:\n",
        "1. Naive Bayes\n",
        "2. Decision Trees\n",
        "3. RandomForestClassifier\n",
        "4. GradientBoostingClassifier\n",
        "5. KNeighborsClassifier\n",
        "6. Linear SVM\n",
        "7. Logistic Regression\n",
        "8. Xtreme Gradient Boosting\n",
        "\n",
        "Related Blog with description: https://towardsdatascience.com/tpot-automated-machine-learning-in-python-4c063b3e5de9"
      ]
    },
    {
      "cell_type": "code",
      "metadata": {
        "id": "DAoEV5boHiy6",
        "colab": {
          "base_uri": "https://localhost:8080/"
        },
        "outputId": "082986fa-ae6d-4f47-ba2d-3e3c9f051c5b"
      },
      "source": [
        "from tpot import TPOTClassifier\n",
        "print('Training features shape: ', X_train.shape)\n",
        "print('Testing features shape:  ', X_test.shape)"
      ],
      "execution_count": 11,
      "outputs": [
        {
          "output_type": "stream",
          "name": "stdout",
          "text": [
            "Training features shape:  (25000, 14)\n",
            "Testing features shape:   (25000, 14)\n"
          ]
        }
      ]
    },
    {
      "cell_type": "markdown",
      "metadata": {
        "id": "o53-HUHoa3w7"
      },
      "source": [
        "## The following prcess will take time (few hours), but you get a progress bar to follow time elapsed."
      ]
    },
    {
      "cell_type": "code",
      "metadata": {
        "id": "nlaiS3Ouq9Tm",
        "colab": {
          "base_uri": "https://localhost:8080/",
          "height": 258,
          "referenced_widgets": [
            "e369c089730442c5ae99735fe2b0287b",
            "2e08a44bd3094206b4c9a4ce68288441",
            "06d8f2f800b34cfcae731ab4282b601a",
            "26cc1eb679ac47868a8dc2815cdcb372",
            "eeb95b8235b44ad0858246327d89aaf7",
            "d7ab4962271c40328587c94aef079f51",
            "0526a0ed25b4462b83fcdb2c8168985f",
            "6cd95d153a9a4aaba18e43cb5248ca2a",
            "22fe035c45854212a1bf2c12ad0a7f12",
            "b1bd265297f942e9b95ba07887f23121",
            "869f718c990d4ed88b50c0bc783fd600"
          ]
        },
        "outputId": "b2113797-726f-4471-b177-6807790bf2c7"
      },
      "source": [
        "tpot = TPOTClassifier(generations=5, population_size=50, verbosity=2, random_state=42)\n",
        "tpot.fit(X_train, y_train)\n",
        "print(tpot.score(X_test, y_test))\n",
        "tpot.export('tpot_iris_pipeline.py')\n"
      ],
      "execution_count": 12,
      "outputs": [
        {
          "data": {
            "application/vnd.jupyter.widget-view+json": {
              "model_id": "e369c089730442c5ae99735fe2b0287b",
              "version_major": 2,
              "version_minor": 0
            },
            "text/plain": [
              "Optimization Progress:   0%|          | 0/300 [00:00<?, ?pipeline/s]"
            ]
          },
          "metadata": {},
          "output_type": "display_data"
        },
        {
          "output_type": "stream",
          "name": "stdout",
          "text": [
            "\n",
            "Generation 1 - Current best internal CV score: 0.9998799999999999\n",
            "\n",
            "Generation 2 - Current best internal CV score: 0.9998799999999999\n",
            "\n",
            "Generation 3 - Current best internal CV score: 0.9998799999999999\n",
            "\n",
            "Generation 4 - Current best internal CV score: 0.9998799999999999\n",
            "\n",
            "Generation 5 - Current best internal CV score: 0.9998799999999999\n",
            "\n",
            "Best pipeline: SGDClassifier(StandardScaler(input_matrix), alpha=0.001, eta0=0.1, fit_intercept=False, l1_ratio=0.25, learning_rate=constant, loss=squared_hinge, penalty=elasticnet, power_t=0.0)\n",
            "1.0\n"
          ]
        }
      ]
    },
    {
      "cell_type": "markdown",
      "metadata": {
        "id": "mNUwJsUuBqSS"
      },
      "source": [
        "So the best classifier is SVM with C=15, tol=0.01, l2 penalty, This verifies our findings above!"
      ]
    },
    {
      "cell_type": "code",
      "metadata": {
        "id": "BAMO4KfA_r3D"
      },
      "source": [
        "from sklearn.pipeline import make_pipeline\n",
        "from tpot.builtins import StackingEstimator\n",
        "from tpot.export_utils import set_param_recursive\n",
        "from sklearn.tree import DecisionTreeClassifier\n",
        "exported_pipeline = make_pipeline(\n",
        "    StackingEstimator(estimator=LinearSVC(C=15, tol=0.01)),\n",
        "    DecisionTreeClassifier(max_depth=10, min_samples_leaf=3, min_samples_split=14)\n",
        ")\n",
        "# Fix random state for all the steps in exported pipeline\n",
        "set_param_recursive(exported_pipeline.steps, 'random_state', 1)\n",
        " \n",
        "exported_pipeline.fit(X_train, y_train)\n",
        "prediction = exported_pipeline.predict(X_test)"
      ],
      "execution_count": null,
      "outputs": []
    },
    {
      "cell_type": "code",
      "metadata": {
        "id": "vfw040OEBvfn",
        "colab": {
          "base_uri": "https://localhost:8080/"
        },
        "outputId": "765bd812-08e3-4b27-b8db-a1921546b057"
      },
      "source": [
        "cmtp=confusion_matrix(y_test, prediction)\n",
        "acc  = accuracy(y_test, prediction)\n",
        "rec  = recall(y_test, prediction)\n",
        "prec = precision(y_test, prediction)\n",
        "f1   = f1_score(y_test, prediction)\n",
        "print(f'Accuracy = {acc}, Precision = {prec}, Recall = {rec}, F1-score = {f1}')\n",
        "print('Confusion Matrix is:')\n",
        "print(cmtp)"
      ],
      "execution_count": null,
      "outputs": [
        {
          "output_type": "stream",
          "text": [
            "Accuracy = 0.99968, Precision = 1.0, Recall = 0.9787234042553191, F1-score = 0.989247311827957\n",
            "Confusion Matrix is:\n",
            "[[24624     0]\n",
            " [    8   368]]\n"
          ],
          "name": "stdout"
        }
      ]
    },
    {
      "cell_type": "markdown",
      "metadata": {
        "id": "d-FcFcozoMIp"
      },
      "source": [
        "So we see TPOT finds the best model and hyperparameters automatically!"
      ]
    },
    {
      "cell_type": "markdown",
      "metadata": {
        "id": "_X2Zjg11dGrv"
      },
      "source": [
        "# Task 3b\n",
        "\n",
        "To find the best selection of features for the given classification task"
      ]
    },
    {
      "cell_type": "code",
      "metadata": {
        "id": "XVCy1A8fn82z",
        "colab": {
          "base_uri": "https://localhost:8080/",
          "height": 564,
          "referenced_widgets": [
            "7cf4f5ec4ef24574937620ffd4ec3e6e",
            "4e3aa4985dae4a7c8c79731b842fd376",
            "60d35719245046e7b20e4054465e32f7",
            "a8c6c40b9fe4426ea11c29503a81b27f",
            "1adb26590ea04f39b50a0cde10ee2c24",
            "77cf8489a85346b7aaffdb40ea86517e",
            "9767b003bb954ae687b7577518346c2d",
            "ffed6a95a57547c6bc76d619484517eb"
          ]
        },
        "outputId": "7ad407d5-ee27-4af3-a2fc-2bad9ca128e0"
      },
      "source": [
        "from tpot.config import classifier_config_dict\n",
        "# add FeatureSetSelector into tpot configuration\n",
        "classifier_config_dict['tpot.builtins.FeatureSetSelector'] = {\n",
        "        'subset_list': ['https://raw.githubusercontent.com/FourthBrain/AutoMLA/main/test_feature.csv'],\n",
        "        'sel_subset': [0,1] # select only one feature set, a list of index of subset in the list above\n",
        "    #'sel_subset': list(combinations(range(3), 2)) # select two feature sets\n",
        "}\n",
        "\n",
        "tpot = TPOTClassifier(generations=5,\n",
        "                           population_size=50, verbosity=2,\n",
        "                           template='FeatureSetSelector-Transformer-Classifier',\n",
        "                           config_dict=classifier_config_dict)\n",
        "tpot.fit(X_train, y_train)"
      ],
      "execution_count": null,
      "outputs": [
        {
          "output_type": "display_data",
          "data": {
            "application/vnd.jupyter.widget-view+json": {
              "model_id": "7cf4f5ec4ef24574937620ffd4ec3e6e",
              "version_minor": 0,
              "version_major": 2
            },
            "text/plain": [
              "HBox(children=(FloatProgress(value=0.0, description='Optimization Progress', max=300.0, style=ProgressStyle(de…"
            ]
          },
          "metadata": {
            "tags": []
          }
        },
        {
          "output_type": "stream",
          "text": [
            "\r\n",
            "Generation 1 - Current best internal CV score: 0.9995200000000001\n",
            "\n",
            "Generation 2 - Current best internal CV score: 0.9995200000000001\n",
            "\n",
            "Generation 3 - Current best internal CV score: 0.9996\n",
            "\n",
            "Generation 4 - Current best internal CV score: 0.9996\n",
            "\n",
            "Generation 5 - Current best internal CV score: 0.99968\n",
            "\n",
            "Best pipeline: DecisionTreeClassifier(PCA(FeatureSetSelector(input_matrix, sel_subset=0, subset_list=https://raw.githubusercontent.com/FourthBrain/AutoMLA/main/test_feature.txt), iterated_power=4, svd_solver=randomized), criterion=entropy, max_depth=7, min_samples_leaf=2, min_samples_split=2)\n"
          ],
          "name": "stdout"
        },
        {
          "output_type": "execute_result",
          "data": {
            "text/plain": [
              "TPOTClassifier(config_dict={'sklearn.cluster.FeatureAgglomeration': {'affinity': ['euclidean',\n",
              "                                                                                  'l1',\n",
              "                                                                                  'l2',\n",
              "                                                                                  'manhattan',\n",
              "                                                                                  'cosine'],\n",
              "                                                                     'linkage': ['ward',\n",
              "                                                                                 'complete',\n",
              "                                                                                 'average']},\n",
              "                            'sklearn.decomposition.FastICA': {'tol': array([0.  , 0.05, 0.1 , 0.15, 0.2 , 0.25, 0.3 , 0.35, 0.4 , 0.45, 0.5 ,\n",
              "       0.55, 0.6 , 0.65, 0.7 , 0.75, 0.8 , 0.85, 0.9 , 0.95, 1.  ])},\n",
              "                            'sklearn.decomposition.PCA': {'iterated_power...\n",
              "               crossover_rate=0.1, cv=5, disable_update_check=False,\n",
              "               early_stop=None, generations=5, log_file=None,\n",
              "               max_eval_time_mins=5, max_time_mins=None, memory=None,\n",
              "               mutation_rate=0.9, n_jobs=1, offspring_size=None,\n",
              "               periodic_checkpoint_folder=None, population_size=50,\n",
              "               random_state=None, scoring=None, subsample=1.0,\n",
              "               template='FeatureSetSelector-Transformer-Classifier',\n",
              "               use_dask=False, verbosity=2, warm_start=False)"
            ]
          },
          "metadata": {
            "tags": []
          },
          "execution_count": 17
        }
      ]
    },
    {
      "cell_type": "markdown",
      "metadata": {
        "id": "8xniiuaFZDzo"
      },
      "source": [
        "Thus, if we had to select only one classifying dimension, the best solution would be by applying PCA and using the first component to classify!"
      ]
    },
    {
      "cell_type": "markdown",
      "metadata": {
        "id": "PpTBJPqJDs9m"
      },
      "source": [
        "## Other well known AutoML methods are autosklearn:\n",
        "[Code] https://colab.research.google.com/drive/1Au5sGCegoGLLxqrIs85GCCW0oWIHqwQw"
      ]
    }
  ]
}